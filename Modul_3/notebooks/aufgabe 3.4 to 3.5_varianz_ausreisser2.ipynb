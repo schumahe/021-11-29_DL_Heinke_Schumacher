{
 "cells": [
  {
   "cell_type": "markdown",
   "id": "39deda9e",
   "metadata": {},
   "source": [
    "### Aufgabe 3.4: Varianz"
   ]
  },
  {
   "cell_type": "code",
   "execution_count": 3,
   "id": "c6d62438",
   "metadata": {},
   "outputs": [
    {
     "data": {
      "text/html": [
       "<div>\n",
       "<style scoped>\n",
       "    .dataframe tbody tr th:only-of-type {\n",
       "        vertical-align: middle;\n",
       "    }\n",
       "\n",
       "    .dataframe tbody tr th {\n",
       "        vertical-align: top;\n",
       "    }\n",
       "\n",
       "    .dataframe thead th {\n",
       "        text-align: right;\n",
       "    }\n",
       "</style>\n",
       "<table border=\"1\" class=\"dataframe\">\n",
       "  <thead>\n",
       "    <tr style=\"text-align: right;\">\n",
       "      <th></th>\n",
       "      <th>Patron Type Code</th>\n",
       "      <th>Patron Type Definition</th>\n",
       "      <th>Total Checkouts</th>\n",
       "      <th>Total Renewals</th>\n",
       "      <th>Age Range</th>\n",
       "      <th>Home Library Code</th>\n",
       "      <th>Home Library Definition</th>\n",
       "      <th>Circulation Active Month</th>\n",
       "      <th>Circulation Active Year</th>\n",
       "      <th>Notice Preference Code</th>\n",
       "      <th>Notice Preference Definition</th>\n",
       "      <th>Provided Email Address</th>\n",
       "      <th>Year Patron Registered</th>\n",
       "      <th>Outside of County</th>\n",
       "      <th>Supervisor District</th>\n",
       "    </tr>\n",
       "  </thead>\n",
       "  <tbody>\n",
       "    <tr>\n",
       "      <th>0</th>\n",
       "      <td>0</td>\n",
       "      <td>ADULT</td>\n",
       "      <td>0</td>\n",
       "      <td>0</td>\n",
       "      <td>20 to 24 years</td>\n",
       "      <td>P1</td>\n",
       "      <td>Park</td>\n",
       "      <td>None</td>\n",
       "      <td>None</td>\n",
       "      <td>z</td>\n",
       "      <td>email</td>\n",
       "      <td>True</td>\n",
       "      <td>2014</td>\n",
       "      <td>False</td>\n",
       "      <td>5.0</td>\n",
       "    </tr>\n",
       "    <tr>\n",
       "      <th>1</th>\n",
       "      <td>0</td>\n",
       "      <td>ADULT</td>\n",
       "      <td>31</td>\n",
       "      <td>22</td>\n",
       "      <td>25 to 34 years</td>\n",
       "      <td>S7</td>\n",
       "      <td>Sunset</td>\n",
       "      <td>April</td>\n",
       "      <td>2016</td>\n",
       "      <td>z</td>\n",
       "      <td>email</td>\n",
       "      <td>True</td>\n",
       "      <td>2010</td>\n",
       "      <td>False</td>\n",
       "      <td>4.0</td>\n",
       "    </tr>\n",
       "    <tr>\n",
       "      <th>2</th>\n",
       "      <td>0</td>\n",
       "      <td>ADULT</td>\n",
       "      <td>0</td>\n",
       "      <td>0</td>\n",
       "      <td>45 to 54 years</td>\n",
       "      <td>P1</td>\n",
       "      <td>Park</td>\n",
       "      <td>None</td>\n",
       "      <td>None</td>\n",
       "      <td>a</td>\n",
       "      <td>print</td>\n",
       "      <td>False</td>\n",
       "      <td>2016</td>\n",
       "      <td>True</td>\n",
       "      <td>NaN</td>\n",
       "    </tr>\n",
       "    <tr>\n",
       "      <th>3</th>\n",
       "      <td>0</td>\n",
       "      <td>ADULT</td>\n",
       "      <td>0</td>\n",
       "      <td>0</td>\n",
       "      <td>25 to 34 years</td>\n",
       "      <td>X</td>\n",
       "      <td>Main Library</td>\n",
       "      <td>None</td>\n",
       "      <td>None</td>\n",
       "      <td>z</td>\n",
       "      <td>email</td>\n",
       "      <td>True</td>\n",
       "      <td>2015</td>\n",
       "      <td>False</td>\n",
       "      <td>3.0</td>\n",
       "    </tr>\n",
       "    <tr>\n",
       "      <th>4</th>\n",
       "      <td>0</td>\n",
       "      <td>ADULT</td>\n",
       "      <td>126</td>\n",
       "      <td>11</td>\n",
       "      <td>45 to 54 years</td>\n",
       "      <td>M2</td>\n",
       "      <td>Marina</td>\n",
       "      <td>January</td>\n",
       "      <td>2016</td>\n",
       "      <td>z</td>\n",
       "      <td>email</td>\n",
       "      <td>True</td>\n",
       "      <td>2003</td>\n",
       "      <td>False</td>\n",
       "      <td>2.0</td>\n",
       "    </tr>\n",
       "    <tr>\n",
       "      <th>...</th>\n",
       "      <td>...</td>\n",
       "      <td>...</td>\n",
       "      <td>...</td>\n",
       "      <td>...</td>\n",
       "      <td>...</td>\n",
       "      <td>...</td>\n",
       "      <td>...</td>\n",
       "      <td>...</td>\n",
       "      <td>...</td>\n",
       "      <td>...</td>\n",
       "      <td>...</td>\n",
       "      <td>...</td>\n",
       "      <td>...</td>\n",
       "      <td>...</td>\n",
       "      <td>...</td>\n",
       "    </tr>\n",
       "    <tr>\n",
       "      <th>423443</th>\n",
       "      <td>0</td>\n",
       "      <td>ADULT</td>\n",
       "      <td>291</td>\n",
       "      <td>13</td>\n",
       "      <td>10 to 19 years</td>\n",
       "      <td>P5</td>\n",
       "      <td>Portola</td>\n",
       "      <td>March</td>\n",
       "      <td>2015</td>\n",
       "      <td>p</td>\n",
       "      <td>phone</td>\n",
       "      <td>False</td>\n",
       "      <td>2009</td>\n",
       "      <td>False</td>\n",
       "      <td>9.0</td>\n",
       "    </tr>\n",
       "    <tr>\n",
       "      <th>423444</th>\n",
       "      <td>0</td>\n",
       "      <td>ADULT</td>\n",
       "      <td>15</td>\n",
       "      <td>11</td>\n",
       "      <td>60 to 64 years</td>\n",
       "      <td>M8</td>\n",
       "      <td>Mission Bay</td>\n",
       "      <td>July</td>\n",
       "      <td>2016</td>\n",
       "      <td>z</td>\n",
       "      <td>email</td>\n",
       "      <td>True</td>\n",
       "      <td>2016</td>\n",
       "      <td>False</td>\n",
       "      <td>6.0</td>\n",
       "    </tr>\n",
       "    <tr>\n",
       "      <th>423445</th>\n",
       "      <td>5</td>\n",
       "      <td>STAFF</td>\n",
       "      <td>208</td>\n",
       "      <td>58</td>\n",
       "      <td>0 to 9 years</td>\n",
       "      <td>B4</td>\n",
       "      <td>Bernal Heights</td>\n",
       "      <td>July</td>\n",
       "      <td>2016</td>\n",
       "      <td>z</td>\n",
       "      <td>email</td>\n",
       "      <td>True</td>\n",
       "      <td>2014</td>\n",
       "      <td>False</td>\n",
       "      <td>9.0</td>\n",
       "    </tr>\n",
       "    <tr>\n",
       "      <th>423446</th>\n",
       "      <td>0</td>\n",
       "      <td>ADULT</td>\n",
       "      <td>26</td>\n",
       "      <td>0</td>\n",
       "      <td>10 to 19 years</td>\n",
       "      <td>M6</td>\n",
       "      <td>Mission</td>\n",
       "      <td>April</td>\n",
       "      <td>2015</td>\n",
       "      <td>z</td>\n",
       "      <td>email</td>\n",
       "      <td>True</td>\n",
       "      <td>2003</td>\n",
       "      <td>False</td>\n",
       "      <td>9.0</td>\n",
       "    </tr>\n",
       "    <tr>\n",
       "      <th>423447</th>\n",
       "      <td>1</td>\n",
       "      <td>JUVENILE</td>\n",
       "      <td>0</td>\n",
       "      <td>0</td>\n",
       "      <td>0 to 9 years</td>\n",
       "      <td>E7</td>\n",
       "      <td>Eureka Valley/Harvey Milk Memorial</td>\n",
       "      <td>None</td>\n",
       "      <td>None</td>\n",
       "      <td>a</td>\n",
       "      <td>print</td>\n",
       "      <td>False</td>\n",
       "      <td>2015</td>\n",
       "      <td>False</td>\n",
       "      <td>8.0</td>\n",
       "    </tr>\n",
       "  </tbody>\n",
       "</table>\n",
       "<p>423448 rows × 15 columns</p>\n",
       "</div>"
      ],
      "text/plain": [
       "        Patron Type Code Patron Type Definition  Total Checkouts  \\\n",
       "0                      0                  ADULT                0   \n",
       "1                      0                  ADULT               31   \n",
       "2                      0                  ADULT                0   \n",
       "3                      0                  ADULT                0   \n",
       "4                      0                  ADULT              126   \n",
       "...                  ...                    ...              ...   \n",
       "423443                 0                  ADULT              291   \n",
       "423444                 0                  ADULT               15   \n",
       "423445                 5                  STAFF              208   \n",
       "423446                 0                  ADULT               26   \n",
       "423447                 1               JUVENILE                0   \n",
       "\n",
       "        Total Renewals       Age Range Home Library Code  \\\n",
       "0                    0  20 to 24 years                P1   \n",
       "1                   22  25 to 34 years                S7   \n",
       "2                    0  45 to 54 years                P1   \n",
       "3                    0  25 to 34 years                 X   \n",
       "4                   11  45 to 54 years                M2   \n",
       "...                ...             ...               ...   \n",
       "423443              13  10 to 19 years                P5   \n",
       "423444              11  60 to 64 years                M8   \n",
       "423445              58    0 to 9 years                B4   \n",
       "423446               0  10 to 19 years                M6   \n",
       "423447               0    0 to 9 years                E7   \n",
       "\n",
       "                   Home Library Definition Circulation Active Month  \\\n",
       "0                                     Park                     None   \n",
       "1                                   Sunset                    April   \n",
       "2                                     Park                     None   \n",
       "3                             Main Library                     None   \n",
       "4                                   Marina                  January   \n",
       "...                                    ...                      ...   \n",
       "423443                             Portola                    March   \n",
       "423444                         Mission Bay                     July   \n",
       "423445                      Bernal Heights                     July   \n",
       "423446                             Mission                    April   \n",
       "423447  Eureka Valley/Harvey Milk Memorial                     None   \n",
       "\n",
       "       Circulation Active Year Notice Preference Code  \\\n",
       "0                         None                      z   \n",
       "1                         2016                      z   \n",
       "2                         None                      a   \n",
       "3                         None                      z   \n",
       "4                         2016                      z   \n",
       "...                        ...                    ...   \n",
       "423443                    2015                      p   \n",
       "423444                    2016                      z   \n",
       "423445                    2016                      z   \n",
       "423446                    2015                      z   \n",
       "423447                    None                      a   \n",
       "\n",
       "       Notice Preference Definition  Provided Email Address  \\\n",
       "0                             email                    True   \n",
       "1                             email                    True   \n",
       "2                             print                   False   \n",
       "3                             email                    True   \n",
       "4                             email                    True   \n",
       "...                             ...                     ...   \n",
       "423443                        phone                   False   \n",
       "423444                        email                    True   \n",
       "423445                        email                    True   \n",
       "423446                        email                    True   \n",
       "423447                        print                   False   \n",
       "\n",
       "        Year Patron Registered  Outside of County  Supervisor District  \n",
       "0                         2014              False                  5.0  \n",
       "1                         2010              False                  4.0  \n",
       "2                         2016               True                  NaN  \n",
       "3                         2015              False                  3.0  \n",
       "4                         2003              False                  2.0  \n",
       "...                        ...                ...                  ...  \n",
       "423443                    2009              False                  9.0  \n",
       "423444                    2016              False                  6.0  \n",
       "423445                    2014              False                  9.0  \n",
       "423446                    2003              False                  9.0  \n",
       "423447                    2015              False                  8.0  \n",
       "\n",
       "[423448 rows x 15 columns]"
      ]
     },
     "execution_count": 3,
     "metadata": {},
     "output_type": "execute_result"
    }
   ],
   "source": [
    "import pandas as pd \n",
    "df = pd.read_csv(\"/home/schumahe/Schumacher/Modul_3/data/Library_Usage.csv\")\n",
    "df"
   ]
  },
  {
   "cell_type": "code",
   "execution_count": 4,
   "id": "f0a55677",
   "metadata": {},
   "outputs": [
    {
     "data": {
      "text/plain": [
       "453.7036783611259"
      ]
     },
     "execution_count": 4,
     "metadata": {},
     "output_type": "execute_result"
    }
   ],
   "source": [
    "df['Total Checkouts'].std()"
   ]
  },
  {
   "cell_type": "code",
   "execution_count": 5,
   "id": "7c39057f",
   "metadata": {},
   "outputs": [
    {
     "data": {
      "text/plain": [
       "161.98209697530748"
      ]
     },
     "execution_count": 5,
     "metadata": {},
     "output_type": "execute_result"
    }
   ],
   "source": [
    "df['Total Checkouts'].mean()"
   ]
  },
  {
   "cell_type": "code",
   "execution_count": 6,
   "id": "f3681ed8",
   "metadata": {},
   "outputs": [
    {
     "data": {
      "text/plain": [
       "2.8009495298130904"
      ]
     },
     "execution_count": 6,
     "metadata": {},
     "output_type": "execute_result"
    }
   ],
   "source": [
    "# Variationskoeffizient cv:\n",
    "df['Total Checkouts'].std() / df['Total Checkouts'].mean()"
   ]
  },
  {
   "cell_type": "code",
   "execution_count": 7,
   "id": "a6747a5b",
   "metadata": {},
   "outputs": [
    {
     "data": {
      "text/plain": [
       "225.0099169494503"
      ]
     },
     "execution_count": 7,
     "metadata": {},
     "output_type": "execute_result"
    }
   ],
   "source": [
    "df['Total Renewals'].std()"
   ]
  },
  {
   "cell_type": "code",
   "execution_count": 8,
   "id": "fc9f9138",
   "metadata": {},
   "outputs": [
    {
     "data": {
      "text/plain": [
       "59.657327464056976"
      ]
     },
     "execution_count": 8,
     "metadata": {},
     "output_type": "execute_result"
    }
   ],
   "source": [
    "df['Total Renewals'].mean()"
   ]
  },
  {
   "cell_type": "code",
   "execution_count": 9,
   "id": "1e535661",
   "metadata": {},
   "outputs": [
    {
     "data": {
      "text/plain": [
       "3.7717062851167245"
      ]
     },
     "execution_count": 9,
     "metadata": {},
     "output_type": "execute_result"
    }
   ],
   "source": [
    "# Variationskoeffizient cv:\n",
    "df['Total Renewals'].std() / df['Total Renewals'].mean()"
   ]
  },
  {
   "cell_type": "markdown",
   "id": "81206371",
   "metadata": {},
   "source": [
    "### Aufgabe 3.5: Exkurs Ausreißerentfernung II"
   ]
  },
  {
   "cell_type": "code",
   "execution_count": 10,
   "id": "0d99e8b7",
   "metadata": {},
   "outputs": [
    {
     "data": {
      "text/plain": [
       "113.0"
      ]
     },
     "execution_count": 10,
     "metadata": {},
     "output_type": "execute_result"
    }
   ],
   "source": [
    "df['Total Checkouts'].quantile(q=0.75)"
   ]
  },
  {
   "cell_type": "code",
   "execution_count": 11,
   "id": "1d053ce2",
   "metadata": {},
   "outputs": [
    {
     "data": {
      "text/plain": [
       "166.5"
      ]
     },
     "execution_count": 11,
     "metadata": {},
     "output_type": "execute_result"
    }
   ],
   "source": [
    "(df['Total Checkouts'].quantile(q=0.75) - df['Total Checkouts'].quantile(q=0.25)) * 1.5"
   ]
  },
  {
   "cell_type": "code",
   "execution_count": 12,
   "id": "699d91fc",
   "metadata": {},
   "outputs": [],
   "source": [
    "ausreisser2 = df['Total Checkouts'] > (df['Total Checkouts'].quantile(q=0.75) + \n",
    "(df['Total Checkouts'].quantile(q=0.75) - df['Total Checkouts'].quantile(q=0.25)) * 1.5)"
   ]
  },
  {
   "cell_type": "code",
   "execution_count": 13,
   "id": "67908da5",
   "metadata": {},
   "outputs": [
    {
     "data": {
      "text/plain": [
       "0         False\n",
       "1         False\n",
       "2         False\n",
       "3         False\n",
       "4         False\n",
       "          ...  \n",
       "423443     True\n",
       "423444    False\n",
       "423445    False\n",
       "423446    False\n",
       "423447    False\n",
       "Name: Total Checkouts, Length: 423448, dtype: bool"
      ]
     },
     "execution_count": 13,
     "metadata": {},
     "output_type": "execute_result"
    }
   ],
   "source": [
    "ausreisser2"
   ]
  },
  {
   "cell_type": "code",
   "execution_count": 14,
   "id": "655fb45c",
   "metadata": {},
   "outputs": [
    {
     "data": {
      "text/plain": [
       "0.1410940658593263"
      ]
     },
     "execution_count": 14,
     "metadata": {},
     "output_type": "execute_result"
    }
   ],
   "source": [
    "ausreisser2.mean()"
   ]
  },
  {
   "cell_type": "code",
   "execution_count": 22,
   "id": "e244cd3b",
   "metadata": {},
   "outputs": [
    {
     "data": {
      "text/plain": [
       "False    363702\n",
       "True      59746\n",
       "Name: Total Checkouts, dtype: int64"
      ]
     },
     "execution_count": 22,
     "metadata": {},
     "output_type": "execute_result"
    }
   ],
   "source": [
    "ausreisser2.value_counts()"
   ]
  },
  {
   "cell_type": "code",
   "execution_count": 24,
   "id": "cf697971",
   "metadata": {},
   "outputs": [
    {
     "data": {
      "text/plain": [
       "14.10940658593263"
      ]
     },
     "execution_count": 24,
     "metadata": {},
     "output_type": "execute_result"
    }
   ],
   "source": [
    "100 / 423448 * 59746"
   ]
  },
  {
   "cell_type": "code",
   "execution_count": null,
   "id": "125d5c5a",
   "metadata": {},
   "outputs": [],
   "source": []
  }
 ],
 "metadata": {
  "kernelspec": {
   "display_name": "Python 3 (ipykernel)",
   "language": "python",
   "name": "python3"
  },
  "language_info": {
   "codemirror_mode": {
    "name": "ipython",
    "version": 3
   },
   "file_extension": ".py",
   "mimetype": "text/x-python",
   "name": "python",
   "nbconvert_exporter": "python",
   "pygments_lexer": "ipython3",
   "version": "3.9.7"
  }
 },
 "nbformat": 4,
 "nbformat_minor": 5
}

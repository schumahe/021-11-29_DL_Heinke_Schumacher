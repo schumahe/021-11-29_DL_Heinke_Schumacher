{
 "cells": [
  {
   "cell_type": "markdown",
   "id": "4ddb35dd",
   "metadata": {},
   "source": [
    "# Vergleich checkouts der Verlage Macmillan und Hachette in 2020"
   ]
  },
  {
   "cell_type": "code",
   "execution_count": 2,
   "id": "72a6621b",
   "metadata": {},
   "outputs": [],
   "source": [
    "import urllib.request\n",
    "import pandas as pd"
   ]
  },
  {
   "cell_type": "code",
   "execution_count": 3,
   "id": "3d1ece16",
   "metadata": {},
   "outputs": [
    {
     "data": {
      "text/plain": [
       "('checkout.csv', <http.client.HTTPMessage at 0x7f8244ad4850>)"
      ]
     },
     "execution_count": 3,
     "metadata": {},
     "output_type": "execute_result"
    }
   ],
   "source": [
    "url = \"https://data.seattle.gov/resource/tmmm-ytt6.csv?$where=checkoutyear=2020&$limit=10000\"\n",
    "checkout_file = \"checkout.csv\"\n",
    "urllib.request.urlretrieve(url, checkout_file)"
   ]
  },
  {
   "cell_type": "code",
   "execution_count": 4,
   "id": "195a65b3",
   "metadata": {},
   "outputs": [],
   "source": [
    "checkouts_df = pd.read_csv(checkout_file)"
   ]
  },
  {
   "cell_type": "code",
   "execution_count": 5,
   "id": "fd49903d",
   "metadata": {},
   "outputs": [
    {
     "data": {
      "text/html": [
       "<div>\n",
       "<style scoped>\n",
       "    .dataframe tbody tr th:only-of-type {\n",
       "        vertical-align: middle;\n",
       "    }\n",
       "\n",
       "    .dataframe tbody tr th {\n",
       "        vertical-align: top;\n",
       "    }\n",
       "\n",
       "    .dataframe thead th {\n",
       "        text-align: right;\n",
       "    }\n",
       "</style>\n",
       "<table border=\"1\" class=\"dataframe\">\n",
       "  <thead>\n",
       "    <tr style=\"text-align: right;\">\n",
       "      <th></th>\n",
       "      <th>usageclass</th>\n",
       "      <th>checkouttype</th>\n",
       "      <th>materialtype</th>\n",
       "      <th>checkoutyear</th>\n",
       "      <th>checkoutmonth</th>\n",
       "      <th>checkouts</th>\n",
       "      <th>title</th>\n",
       "      <th>creator</th>\n",
       "      <th>subjects</th>\n",
       "      <th>publisher</th>\n",
       "      <th>publicationyear</th>\n",
       "    </tr>\n",
       "  </thead>\n",
       "  <tbody>\n",
       "    <tr>\n",
       "      <th>0</th>\n",
       "      <td>Physical</td>\n",
       "      <td>Horizon</td>\n",
       "      <td>BOOK</td>\n",
       "      <td>2020</td>\n",
       "      <td>8</td>\n",
       "      <td>1</td>\n",
       "      <td>Harvest / Sam Inglis.</td>\n",
       "      <td>Inglis, Sam</td>\n",
       "      <td>Young Neil 1945 Harvest</td>\n",
       "      <td>Continuum,</td>\n",
       "      <td>2003.</td>\n",
       "    </tr>\n",
       "    <tr>\n",
       "      <th>1</th>\n",
       "      <td>Digital</td>\n",
       "      <td>OverDrive</td>\n",
       "      <td>EBOOK</td>\n",
       "      <td>2020</td>\n",
       "      <td>8</td>\n",
       "      <td>1</td>\n",
       "      <td>The Race Beat</td>\n",
       "      <td>Gene Roberts</td>\n",
       "      <td>History, Nonfiction, Politics, Sociology</td>\n",
       "      <td>Random House, Inc.</td>\n",
       "      <td>2008</td>\n",
       "    </tr>\n",
       "    <tr>\n",
       "      <th>2</th>\n",
       "      <td>Digital</td>\n",
       "      <td>OverDrive</td>\n",
       "      <td>EBOOK</td>\n",
       "      <td>2020</td>\n",
       "      <td>8</td>\n",
       "      <td>5</td>\n",
       "      <td>I Can Cook Vegan</td>\n",
       "      <td>Isa Chandra Moskowitz</td>\n",
       "      <td>Cooking &amp; Food, Nonfiction</td>\n",
       "      <td>ABRAMS</td>\n",
       "      <td>2019</td>\n",
       "    </tr>\n",
       "    <tr>\n",
       "      <th>3</th>\n",
       "      <td>Digital</td>\n",
       "      <td>OverDrive</td>\n",
       "      <td>EBOOK</td>\n",
       "      <td>2020</td>\n",
       "      <td>8</td>\n",
       "      <td>1</td>\n",
       "      <td>Follow the Stars Home</td>\n",
       "      <td>Luanne Rice</td>\n",
       "      <td>Fiction, Romance</td>\n",
       "      <td>Random House, Inc.</td>\n",
       "      <td>2012</td>\n",
       "    </tr>\n",
       "    <tr>\n",
       "      <th>4</th>\n",
       "      <td>Digital</td>\n",
       "      <td>OverDrive</td>\n",
       "      <td>EBOOK</td>\n",
       "      <td>2020</td>\n",
       "      <td>8</td>\n",
       "      <td>1</td>\n",
       "      <td>Blood of Innocence</td>\n",
       "      <td>Tami Dane</td>\n",
       "      <td>Fantasy, Fiction, Romance</td>\n",
       "      <td>Lightning Source Inc</td>\n",
       "      <td>2012</td>\n",
       "    </tr>\n",
       "    <tr>\n",
       "      <th>...</th>\n",
       "      <td>...</td>\n",
       "      <td>...</td>\n",
       "      <td>...</td>\n",
       "      <td>...</td>\n",
       "      <td>...</td>\n",
       "      <td>...</td>\n",
       "      <td>...</td>\n",
       "      <td>...</td>\n",
       "      <td>...</td>\n",
       "      <td>...</td>\n",
       "      <td>...</td>\n",
       "    </tr>\n",
       "    <tr>\n",
       "      <th>9995</th>\n",
       "      <td>Physical</td>\n",
       "      <td>Horizon</td>\n",
       "      <td>BOOK</td>\n",
       "      <td>2020</td>\n",
       "      <td>1</td>\n",
       "      <td>1</td>\n",
       "      <td>A rebel heart / Beth White.</td>\n",
       "      <td>White, Beth, 1957-</td>\n",
       "      <td>Man woman relationships Fiction, Women plantat...</td>\n",
       "      <td>Revell, a division of Baker Publishing Group,</td>\n",
       "      <td>[2018]</td>\n",
       "    </tr>\n",
       "    <tr>\n",
       "      <th>9996</th>\n",
       "      <td>Physical</td>\n",
       "      <td>Horizon</td>\n",
       "      <td>BOOK</td>\n",
       "      <td>2020</td>\n",
       "      <td>1</td>\n",
       "      <td>1</td>\n",
       "      <td>Discover Scotland / this edition written and r...</td>\n",
       "      <td>Wilson, Neil, 1959-</td>\n",
       "      <td>Scotland Guidebooks</td>\n",
       "      <td>Lonely Planet,</td>\n",
       "      <td>2013.</td>\n",
       "    </tr>\n",
       "    <tr>\n",
       "      <th>9997</th>\n",
       "      <td>Physical</td>\n",
       "      <td>Horizon</td>\n",
       "      <td>BOOK</td>\n",
       "      <td>2020</td>\n",
       "      <td>1</td>\n",
       "      <td>1</td>\n",
       "      <td>The wolves / Alex Berenson.</td>\n",
       "      <td>Berenson, Alex</td>\n",
       "      <td>Wells John Fictitious character Fiction, Unite...</td>\n",
       "      <td>G.P. Putnam's Sons,</td>\n",
       "      <td>[2016]</td>\n",
       "    </tr>\n",
       "    <tr>\n",
       "      <th>9998</th>\n",
       "      <td>Digital</td>\n",
       "      <td>OverDrive</td>\n",
       "      <td>AUDIOBOOK</td>\n",
       "      <td>2020</td>\n",
       "      <td>1</td>\n",
       "      <td>2</td>\n",
       "      <td>The Healing Code: 6 Minutes to Heal the Source...</td>\n",
       "      <td>Alexander Loyd</td>\n",
       "      <td>Medical, New Age, Nonfiction</td>\n",
       "      <td>Hachette Audio</td>\n",
       "      <td>2011</td>\n",
       "    </tr>\n",
       "    <tr>\n",
       "      <th>9999</th>\n",
       "      <td>Digital</td>\n",
       "      <td>OverDrive</td>\n",
       "      <td>EBOOK</td>\n",
       "      <td>2020</td>\n",
       "      <td>1</td>\n",
       "      <td>53</td>\n",
       "      <td>In the Woods: Dublin Murder Squad Series, Book 1</td>\n",
       "      <td>Tana French</td>\n",
       "      <td>Fiction, Suspense</td>\n",
       "      <td>Penguin Group (USA), Inc.</td>\n",
       "      <td>2009</td>\n",
       "    </tr>\n",
       "  </tbody>\n",
       "</table>\n",
       "<p>10000 rows × 11 columns</p>\n",
       "</div>"
      ],
      "text/plain": [
       "     usageclass checkouttype materialtype  checkoutyear  checkoutmonth  \\\n",
       "0      Physical      Horizon         BOOK          2020              8   \n",
       "1       Digital    OverDrive        EBOOK          2020              8   \n",
       "2       Digital    OverDrive        EBOOK          2020              8   \n",
       "3       Digital    OverDrive        EBOOK          2020              8   \n",
       "4       Digital    OverDrive        EBOOK          2020              8   \n",
       "...         ...          ...          ...           ...            ...   \n",
       "9995   Physical      Horizon         BOOK          2020              1   \n",
       "9996   Physical      Horizon         BOOK          2020              1   \n",
       "9997   Physical      Horizon         BOOK          2020              1   \n",
       "9998    Digital    OverDrive    AUDIOBOOK          2020              1   \n",
       "9999    Digital    OverDrive        EBOOK          2020              1   \n",
       "\n",
       "      checkouts                                              title  \\\n",
       "0             1                              Harvest / Sam Inglis.   \n",
       "1             1                                      The Race Beat   \n",
       "2             5                                   I Can Cook Vegan   \n",
       "3             1                              Follow the Stars Home   \n",
       "4             1                                 Blood of Innocence   \n",
       "...         ...                                                ...   \n",
       "9995          1                        A rebel heart / Beth White.   \n",
       "9996          1  Discover Scotland / this edition written and r...   \n",
       "9997          1                        The wolves / Alex Berenson.   \n",
       "9998          2  The Healing Code: 6 Minutes to Heal the Source...   \n",
       "9999         53   In the Woods: Dublin Murder Squad Series, Book 1   \n",
       "\n",
       "                    creator  \\\n",
       "0               Inglis, Sam   \n",
       "1              Gene Roberts   \n",
       "2     Isa Chandra Moskowitz   \n",
       "3               Luanne Rice   \n",
       "4                 Tami Dane   \n",
       "...                     ...   \n",
       "9995     White, Beth, 1957-   \n",
       "9996    Wilson, Neil, 1959-   \n",
       "9997         Berenson, Alex   \n",
       "9998         Alexander Loyd   \n",
       "9999            Tana French   \n",
       "\n",
       "                                               subjects  \\\n",
       "0                               Young Neil 1945 Harvest   \n",
       "1              History, Nonfiction, Politics, Sociology   \n",
       "2                            Cooking & Food, Nonfiction   \n",
       "3                                      Fiction, Romance   \n",
       "4                             Fantasy, Fiction, Romance   \n",
       "...                                                 ...   \n",
       "9995  Man woman relationships Fiction, Women plantat...   \n",
       "9996                                Scotland Guidebooks   \n",
       "9997  Wells John Fictitious character Fiction, Unite...   \n",
       "9998                       Medical, New Age, Nonfiction   \n",
       "9999                                  Fiction, Suspense   \n",
       "\n",
       "                                          publisher publicationyear  \n",
       "0                                        Continuum,           2003.  \n",
       "1                                Random House, Inc.            2008  \n",
       "2                                            ABRAMS            2019  \n",
       "3                                Random House, Inc.            2012  \n",
       "4                              Lightning Source Inc            2012  \n",
       "...                                             ...             ...  \n",
       "9995  Revell, a division of Baker Publishing Group,          [2018]  \n",
       "9996                                 Lonely Planet,           2013.  \n",
       "9997                            G.P. Putnam's Sons,          [2016]  \n",
       "9998                                 Hachette Audio            2011  \n",
       "9999                      Penguin Group (USA), Inc.            2009  \n",
       "\n",
       "[10000 rows x 11 columns]"
      ]
     },
     "execution_count": 5,
     "metadata": {},
     "output_type": "execute_result"
    }
   ],
   "source": [
    "checkouts_df"
   ]
  },
  {
   "cell_type": "markdown",
   "id": "bfc1b6fd",
   "metadata": {},
   "source": [
    "## Definition der Verlage"
   ]
  },
  {
   "cell_type": "code",
   "execution_count": 53,
   "id": "0600fbbe",
   "metadata": {},
   "outputs": [],
   "source": [
    "checkouts_publ_df = checkouts_df[(checkouts_df[\"publisher\"] == \"Macmillan Audio\") | (checkouts_df[\"publisher\"] == \"Hachette Audio\")]"
   ]
  },
  {
   "cell_type": "markdown",
   "id": "ab36b88c",
   "metadata": {},
   "source": [
    "## Gruppierung nach Verlagen und Summierung checkouts"
   ]
  },
  {
   "cell_type": "code",
   "execution_count": 54,
   "id": "016bad1f",
   "metadata": {},
   "outputs": [
    {
     "data": {
      "text/html": [
       "<div>\n",
       "<style scoped>\n",
       "    .dataframe tbody tr th:only-of-type {\n",
       "        vertical-align: middle;\n",
       "    }\n",
       "\n",
       "    .dataframe tbody tr th {\n",
       "        vertical-align: top;\n",
       "    }\n",
       "\n",
       "    .dataframe thead th {\n",
       "        text-align: right;\n",
       "    }\n",
       "</style>\n",
       "<table border=\"1\" class=\"dataframe\">\n",
       "  <thead>\n",
       "    <tr style=\"text-align: right;\">\n",
       "      <th></th>\n",
       "      <th>checkouts</th>\n",
       "    </tr>\n",
       "    <tr>\n",
       "      <th>publisher</th>\n",
       "      <th></th>\n",
       "    </tr>\n",
       "  </thead>\n",
       "  <tbody>\n",
       "    <tr>\n",
       "      <th>Hachette Audio</th>\n",
       "      <td>108</td>\n",
       "    </tr>\n",
       "    <tr>\n",
       "      <th>Macmillan Audio</th>\n",
       "      <td>508</td>\n",
       "    </tr>\n",
       "  </tbody>\n",
       "</table>\n",
       "</div>"
      ],
      "text/plain": [
       "                 checkouts\n",
       "publisher                 \n",
       "Hachette Audio         108\n",
       "Macmillan Audio        508"
      ]
     },
     "execution_count": 54,
     "metadata": {},
     "output_type": "execute_result"
    }
   ],
   "source": [
    "checkouts_publ_df.groupby(\"publisher\").sum() [[\"checkouts\"]]"
   ]
  },
  {
   "cell_type": "markdown",
   "id": "8943b092",
   "metadata": {},
   "source": [
    "## Definition Drucktabelle"
   ]
  },
  {
   "cell_type": "code",
   "execution_count": 55,
   "id": "63d1a416",
   "metadata": {},
   "outputs": [],
   "source": [
    "sum_df = checkouts_publ_df.groupby(\"publisher\").sum() [[\"checkouts\"]]"
   ]
  },
  {
   "cell_type": "markdown",
   "id": "d749fd9d",
   "metadata": {},
   "source": [
    "## Definition graph. Darstellung"
   ]
  },
  {
   "cell_type": "code",
   "execution_count": 56,
   "id": "c85535f4",
   "metadata": {},
   "outputs": [
    {
     "data": {
      "text/plain": [
       "<AxesSubplot:ylabel='checkouts'>"
      ]
     },
     "execution_count": 56,
     "metadata": {},
     "output_type": "execute_result"
    },
    {
     "data": {
      "image/png": "[encoded data removed]",
      "text/plain": [
       "<Figure size 432x288 with 1 Axes>"
      ]
     },
     "metadata": {},
     "output_type": "display_data"
    }
   ],
   "source": [
    "sum_df.plot.pie(x=\"publisher\", y=\"checkouts\")"
   ]
  },
  {
   "cell_type": "code",
   "execution_count": 52,
   "id": "5e2c02da",
   "metadata": {},
   "outputs": [
    {
     "data": {
      "text/plain": [
       "<AxesSubplot:ylabel='publisher'>"
      ]
     },
     "execution_count": 52,
     "metadata": {},
     "output_type": "execute_result"
    },
    {
     "data": {
      "image/png": "[encoded data removed]",
      "text/plain": [
       "<Figure size 432x288 with 1 Axes>"
      ]
     },
     "metadata": {
      "needs_background": "light"
     },
     "output_type": "display_data"
    }
   ],
   "source": [
    "sum_df.plot.barh()"
   ]
  },
  {
   "cell_type": "code",
   "execution_count": null,
   "id": "b35f4c07",
   "metadata": {},
   "outputs": [],
   "source": []
  }
 ],
 "metadata": {
  "kernelspec": {
   "display_name": "Python 3 (ipykernel)",
   "language": "python",
   "name": "python3"
  },
  "language_info": {
   "codemirror_mode": {
    "name": "ipython",
    "version": 3
   },
   "file_extension": ".py",
   "mimetype": "text/x-python",
   "name": "python",
   "nbconvert_exporter": "python",
   "pygments_lexer": "ipython3",
   "version": "3.9.7"
  }
 },
 "nbformat": 4,
 "nbformat_minor": 5
}

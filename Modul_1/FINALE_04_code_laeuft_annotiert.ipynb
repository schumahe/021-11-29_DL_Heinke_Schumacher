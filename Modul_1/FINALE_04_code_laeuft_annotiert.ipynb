{
 "cells": [
  {
   "cell_type": "markdown",
   "id": "e9aafd99",
   "metadata": {},
   "source": [
    "<div align=\"center\"> <h1 align=\"center\">Personendaten der Hamburg-Bibliographie.</h1></div>\n",
    "<div align=\"center\"> <h3 align=\"center\">Der Weg von der Ausgangsdatei zur json-Datei für die Nutzung in der Python-Bibliothek Pyvis.</h3></div>"
   ]
  },
  {
   "cell_type": "markdown",
   "id": "6994b7c0",
   "metadata": {},
   "source": [
    "<br/>"
   ]
  },
  {
   "cell_type": "markdown",
   "id": "29d518d8",
   "metadata": {},
   "source": [
    "### Importieren der nötigen Bibliotheken"
   ]
  },
  {
   "cell_type": "code",
   "execution_count": 8,
   "id": "bab747d6",
   "metadata": {},
   "outputs": [],
   "source": [
    "import csv\n",
    "import json\n",
    "import string\n",
    "import re"
   ]
  },
  {
   "cell_type": "markdown",
   "id": "214a3cc0",
   "metadata": {},
   "source": [
    "### Aufrufen der gelieferten Ausgangstext-Datei, Datenabzug aus dem Produktivsystem des Bibliotheksverbundes"
   ]
  },
  {
   "cell_type": "code",
   "execution_count": 11,
   "id": "ffcfc897",
   "metadata": {},
   "outputs": [],
   "source": [
    "with open (\"hhb_td_2022-01-19_originaldaten_bereinigt.pp\", \"r+\", encoding = \"utf-8\") as infile:\n",
    "    file = infile.readlines()"
   ]
  },
  {
   "cell_type": "markdown",
   "id": "41a8dedb",
   "metadata": {},
   "source": [
    "### Wandlung der Lines in einzelne Dictionaries, Teilung der Lines in Keys und Values"
   ]
  },
  {
   "cell_type": "code",
   "execution_count": 13,
   "id": "c08f2d23",
   "metadata": {},
   "outputs": [],
   "source": [
    "entries = []\n",
    "    \n",
    "for line in file:    \n",
    "    dict_line = {}\n",
    "    key, *value = line.strip().replace(\"\\x1f\", \" \").split(\" \", 1)\n",
    "    dict_line[key] = value\n",
    "    \n",
    "    entries.append(dict_line)"
   ]
  },
  {
   "cell_type": "markdown",
   "id": "2f335406",
   "metadata": {},
   "source": [
    "#### Wandeln der Values in Strings\n",
    "Die Entscheidung für diese Aktion an dieser Stelle ist aus arbeitssparendem Grund getroffen worden: im darauf folgenden Schritt sollen die Keys \"041R\" gesammelt verändert werden. Sie sollen später anhand der Inhalte individualisiert werden und würden daher bei einer späteren Erledigung dieses Schrittes jeweils eine Einzelbehandlung erfordern."
   ]
  },
  {
   "cell_type": "code",
   "execution_count": null,
   "id": "b81abb8b",
   "metadata": {},
   "outputs": [],
   "source": [
    "for item in entries:\n",
    "    \n",
    "    for value in item:\n",
    "        item[value] = str(str(item[value]).strip(\"[' \").strip(\"']\").strip(\"\\\\\").replace(\"\\\"\", \"'\"))\n",
    "        \n",
    "        if \"041R\" in item:\n",
    "            item[value] = str(str(item[value]).lstrip(\"[0123456789]X\").lstrip().lstrip(\"VTdv\").lstrip().\n",
    "                              lstrip(\"6gnd\\/[0123456789]-[0123456789]\").lstrip().lstrip(\"S[pkcsgtfz]\").\n",
    "                              lstrip().lstrip(\"a\"))"
   ]
  },
  {
   "cell_type": "markdown",
   "id": "3b56095d",
   "metadata": {},
   "source": [
    "### Individualisierung gleichnamiger Keys I: \n",
    "Umbenennung der verschiedenen Keys des Feldes \"041R\" anhand ihrer Inhalte ihrer Values. Interimsmäßig werden die Codierungen, die den Inhalt anzeigen als Keyergänzung angehängt (Übersicht der Codierungen siehe Anhang der Ausarbeitung)"
   ]
  },
  {
   "cell_type": "code",
   "execution_count": null,
   "id": "d55b67e8",
   "metadata": {},
   "outputs": [],
   "source": [
    "for item in entries:\n",
    "    \n",
    "    for key, value in list(item.items()):\n",
    "        \n",
    "        if \"041R\" == key:\n",
    "            if \"4beru\" in value:\n",
    "                item[\"041R_beru\"] = item.pop(\"041R\")    # mehrfach möglich\n",
    "                \n",
    "        if \"041R\" == key:\n",
    "            if \"4bezf\" in value:\n",
    "                item[\"041R_bezf\"] = item.pop(\"041R\")    # mehrfach möglich\n",
    "                \n",
    "        if \"041R\" == key:\n",
    "            if \"4bezb\" in value:\n",
    "                item[\"041R_bezb\"] = item.pop(\"041R\")    # mehrfach möglich\n",
    "                \n",
    "        if \"041R\" == key:\n",
    "            if \"4ort\" in value:\n",
    "                item[\"041R_ort\"] = item.pop(\"041R\")     # mehrfach möglich\n",
    "        \n",
    "        if \"041R\" == key:\n",
    "            if \"4affi\" in value:\n",
    "                item[\"041R_affi\"] = item.pop(\"041R\")    # mehrfach möglich       \n",
    "                \n",
    "        if \"060R\" == key:                             \n",
    "            if \"4datl\" in value:\n",
    "                item[\"060R_datl\"] = item.pop(\"060R\")\n",
    "                \n",
    "        if \"060R\" == key:                             \n",
    "            if \"4datx\" in value:\n",
    "                item[\"060R_datx\"] = item.pop(\"060R\")"
   ]
  },
  {
   "cell_type": "markdown",
   "id": "64d98a35",
   "metadata": {},
   "source": [
    "### Individualisierung gleichnamiger Keys II\n",
    "Im nächsten Schritt wird vermieden, dass unterschiedliche Values mit gleichnamigen Keys (auch bei den umbenannten Keys können noch gleichnamige Keys vorkommen) bei der Dictionary-Bildung überschrieben werden. Die gefährdeten Keys erhalten einen durchlaufenden Nummernzusatz und werden so individualisiert."
   ]
  },
  {
   "cell_type": "code",
   "execution_count": null,
   "id": "11b37d0d",
   "metadata": {},
   "outputs": [],
   "source": []
  }
 ],
 "metadata": {
  "kernelspec": {
   "display_name": "Python 3 (ipykernel)",
   "language": "python",
   "name": "python3"
  },
  "language_info": {
   "codemirror_mode": {
    "name": "ipython",
    "version": 3
   },
   "file_extension": ".py",
   "mimetype": "text/x-python",
   "name": "python",
   "nbconvert_exporter": "python",
   "pygments_lexer": "ipython3",
   "version": "3.9.7"
  }
 },
 "nbformat": 4,
 "nbformat_minor": 5
}

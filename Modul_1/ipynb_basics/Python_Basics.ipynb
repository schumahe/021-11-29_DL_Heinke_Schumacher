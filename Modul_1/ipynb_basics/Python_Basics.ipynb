{
 "cells": [
  {
   "cell_type": "markdown",
   "id": "025b8595",
   "metadata": {},
   "source": [
    "# Python Einführung\n",
    "\n",
    "- Stichpunkte\n",
    "- Alles ist ein Lernen\n",
    "- *fett* **kursiv**"
   ]
  },
  {
   "cell_type": "code",
   "execution_count": 1,
   "id": "e1dc3731",
   "metadata": {},
   "outputs": [
    {
     "name": "stdout",
     "output_type": "stream",
     "text": [
      "Hier wird ausgeprinted\n"
     ]
    }
   ],
   "source": [
    "print (\"Hier wird ausgeprinted\")"
   ]
  },
  {
   "cell_type": "markdown",
   "id": "dfc10b7d",
   "metadata": {},
   "source": [
    "# Einfache Datentypen\n",
    "- Variablen & Werte zuweisen"
   ]
  },
  {
   "cell_type": "code",
   "execution_count": 9,
   "id": "6d8b60e2",
   "metadata": {},
   "outputs": [],
   "source": [
    "# String - Zeichenkette\n",
    "name = \"Lovelace\""
   ]
  },
  {
   "cell_type": "code",
   "execution_count": 3,
   "id": "63b6587e",
   "metadata": {},
   "outputs": [
    {
     "name": "stdout",
     "output_type": "stream",
     "text": [
      "Lovelace\n"
     ]
    }
   ],
   "source": [
    "print (name)"
   ]
  },
  {
   "cell_type": "code",
   "execution_count": 5,
   "id": "3a4e015c",
   "metadata": {},
   "outputs": [
    {
     "name": "stdout",
     "output_type": "stream",
     "text": [
      "37\n"
     ]
    }
   ],
   "source": [
    "# Integer - Ganzzahl\n",
    "age = 37\n",
    "print(age)"
   ]
  },
  {
   "cell_type": "code",
   "execution_count": 7,
   "id": "2bccbc8a",
   "metadata": {},
   "outputs": [
    {
     "name": "stdout",
     "output_type": "stream",
     "text": [
      "1.7123\n"
     ]
    }
   ],
   "source": [
    "# Float\n",
    "size = 1.7123\n",
    "print(size)"
   ]
  },
  {
   "cell_type": "code",
   "execution_count": 8,
   "id": "bea308a5",
   "metadata": {},
   "outputs": [
    {
     "name": "stdout",
     "output_type": "stream",
     "text": [
      "True\n",
      "False\n"
     ]
    }
   ],
   "source": [
    "# Boolean - Boolscher Wert\n",
    "knows_math = True\n",
    "print(knows_math)\n",
    "likes_gardening = False\n",
    "print(likes_gardening)"
   ]
  },
  {
   "cell_type": "code",
   "execution_count": 15,
   "id": "b8472f65",
   "metadata": {},
   "outputs": [
    {
     "data": {
      "text/plain": [
       "str"
      ]
     },
     "execution_count": 15,
     "metadata": {},
     "output_type": "execute_result"
    }
   ],
   "source": [
    "# Typen anzeigen lassen\n",
    "type(year)"
   ]
  },
  {
   "cell_type": "code",
   "execution_count": 14,
   "id": "b16f94a3",
   "metadata": {},
   "outputs": [],
   "source": [
    "year = \"2021\""
   ]
  },
  {
   "cell_type": "markdown",
   "id": "85726c8a",
   "metadata": {},
   "source": [
    "# Operatoren"
   ]
  },
  {
   "cell_type": "code",
   "execution_count": 16,
   "id": "a5fd8563",
   "metadata": {},
   "outputs": [
    {
     "data": {
      "text/plain": [
       "10"
      ]
     },
     "execution_count": 16,
     "metadata": {},
     "output_type": "execute_result"
    }
   ],
   "source": [
    "5 + 5"
   ]
  },
  {
   "cell_type": "code",
   "execution_count": 17,
   "id": "ad6ba40a",
   "metadata": {},
   "outputs": [
    {
     "data": {
      "text/plain": [
       "3700"
      ]
     },
     "execution_count": 17,
     "metadata": {},
     "output_type": "execute_result"
    }
   ],
   "source": [
    "age * 100"
   ]
  },
  {
   "cell_type": "code",
   "execution_count": 18,
   "id": "d83a3b43",
   "metadata": {},
   "outputs": [
    {
     "data": {
      "text/plain": [
       "'LovelaceLovelace'"
      ]
     },
     "execution_count": 18,
     "metadata": {},
     "output_type": "execute_result"
    }
   ],
   "source": [
    "name + name"
   ]
  },
  {
   "cell_type": "code",
   "execution_count": 19,
   "id": "12880bbe",
   "metadata": {},
   "outputs": [
    {
     "data": {
      "text/plain": [
       "'LovelaceLovelaceLovelaceLovelaceLovelaceLovelaceLovelaceLovelaceLovelaceLovelace'"
      ]
     },
     "execution_count": 19,
     "metadata": {},
     "output_type": "execute_result"
    }
   ],
   "source": [
    "name * 10"
   ]
  },
  {
   "cell_type": "code",
   "execution_count": 20,
   "id": "59cd209d",
   "metadata": {},
   "outputs": [
    {
     "ename": "TypeError",
     "evalue": "can only concatenate str (not \"int\") to str",
     "output_type": "error",
     "traceback": [
      "\u001b[0;31m---------------------------------------------------------------------------\u001b[0m",
      "\u001b[0;31mTypeError\u001b[0m                                 Traceback (most recent call last)",
      "\u001b[0;32m/tmp/ipykernel_16915/3004308386.py\u001b[0m in \u001b[0;36m<module>\u001b[0;34m\u001b[0m\n\u001b[0;32m----> 1\u001b[0;31m \u001b[0mname\u001b[0m \u001b[0;34m+\u001b[0m \u001b[0;36m10\u001b[0m\u001b[0;34m\u001b[0m\u001b[0;34m\u001b[0m\u001b[0m\n\u001b[0m",
      "\u001b[0;31mTypeError\u001b[0m: can only concatenate str (not \"int\") to str"
     ]
    }
   ],
   "source": [
    "name + 10"
   ]
  },
  {
   "cell_type": "code",
   "execution_count": 21,
   "id": "2284b529",
   "metadata": {},
   "outputs": [
    {
     "data": {
      "text/plain": [
       "'Lovelace10'"
      ]
     },
     "execution_count": 21,
     "metadata": {},
     "output_type": "execute_result"
    }
   ],
   "source": [
    "name + \"10\""
   ]
  },
  {
   "cell_type": "code",
   "execution_count": 22,
   "id": "f827f453",
   "metadata": {},
   "outputs": [
    {
     "data": {
      "text/plain": [
       "0.04627837837837838"
      ]
     },
     "execution_count": 22,
     "metadata": {},
     "output_type": "execute_result"
    }
   ],
   "source": [
    "size / age"
   ]
  },
  {
   "cell_type": "code",
   "execution_count": 23,
   "id": "fad9d2df",
   "metadata": {},
   "outputs": [],
   "source": [
    "number_of_articles = \"50\""
   ]
  },
  {
   "cell_type": "code",
   "execution_count": 24,
   "id": "9c66bba9",
   "metadata": {},
   "outputs": [
    {
     "ename": "TypeError",
     "evalue": "unsupported operand type(s) for /: 'str' and 'int'",
     "output_type": "error",
     "traceback": [
      "\u001b[0;31m---------------------------------------------------------------------------\u001b[0m",
      "\u001b[0;31mTypeError\u001b[0m                                 Traceback (most recent call last)",
      "\u001b[0;32m/tmp/ipykernel_16915/296469042.py\u001b[0m in \u001b[0;36m<module>\u001b[0;34m\u001b[0m\n\u001b[0;32m----> 1\u001b[0;31m \u001b[0mnumber_of_articles\u001b[0m \u001b[0;34m/\u001b[0m \u001b[0;36m10\u001b[0m\u001b[0;34m\u001b[0m\u001b[0;34m\u001b[0m\u001b[0m\n\u001b[0m",
      "\u001b[0;31mTypeError\u001b[0m: unsupported operand type(s) for /: 'str' and 'int'"
     ]
    }
   ],
   "source": [
    "number_of_articles / 10"
   ]
  },
  {
   "cell_type": "code",
   "execution_count": 25,
   "id": "8799295f",
   "metadata": {},
   "outputs": [
    {
     "data": {
      "text/plain": [
       "5.0"
      ]
     },
     "execution_count": 25,
     "metadata": {},
     "output_type": "execute_result"
    }
   ],
   "source": [
    "int(number_of_articles) / 10"
   ]
  },
  {
   "cell_type": "markdown",
   "id": "3c6baa2a",
   "metadata": {},
   "source": [
    "# Funktionen und Methoden"
   ]
  },
  {
   "cell_type": "code",
   "execution_count": 26,
   "id": "a5b3c903",
   "metadata": {},
   "outputs": [
    {
     "data": {
      "text/plain": [
       "8"
      ]
     },
     "execution_count": 26,
     "metadata": {},
     "output_type": "execute_result"
    }
   ],
   "source": [
    "len(name)"
   ]
  },
  {
   "cell_type": "code",
   "execution_count": 27,
   "id": "675f054b",
   "metadata": {},
   "outputs": [
    {
     "data": {
      "text/plain": [
       "'LOVELACE'"
      ]
     },
     "execution_count": 27,
     "metadata": {},
     "output_type": "execute_result"
    }
   ],
   "source": [
    "name.upper()"
   ]
  },
  {
   "cell_type": "code",
   "execution_count": 28,
   "id": "555ca51f",
   "metadata": {},
   "outputs": [
    {
     "data": {
      "text/plain": [
       "'Lovelace'"
      ]
     },
     "execution_count": 28,
     "metadata": {},
     "output_type": "execute_result"
    }
   ],
   "source": [
    "name"
   ]
  },
  {
   "cell_type": "code",
   "execution_count": 29,
   "id": "1c9481ee",
   "metadata": {},
   "outputs": [
    {
     "data": {
      "text/plain": [
       "2"
      ]
     },
     "execution_count": 29,
     "metadata": {},
     "output_type": "execute_result"
    }
   ],
   "source": [
    "name.count(\"e\")"
   ]
  },
  {
   "cell_type": "code",
   "execution_count": 30,
   "id": "ebcc257e",
   "metadata": {},
   "outputs": [
    {
     "data": {
      "text/plain": [
       "2"
      ]
     },
     "execution_count": 30,
     "metadata": {},
     "output_type": "execute_result"
    }
   ],
   "source": [
    "name.upper().count(\"L\")"
   ]
  },
  {
   "cell_type": "code",
   "execution_count": 31,
   "id": "8deff321",
   "metadata": {},
   "outputs": [
    {
     "data": {
      "text/plain": [
       "'Love is everywhere'"
      ]
     },
     "execution_count": 31,
     "metadata": {},
     "output_type": "execute_result"
    }
   ],
   "source": [
    "name.replace(\"lace\", \" is everywhere\")"
   ]
  },
  {
   "cell_type": "markdown",
   "id": "6e49aa5f",
   "metadata": {},
   "source": [
    "# Listen und Dictionaries"
   ]
  },
  {
   "cell_type": "code",
   "execution_count": 32,
   "id": "fb3d0ec0",
   "metadata": {},
   "outputs": [],
   "source": [
    "names = [\"Lovelace\", \"Darwin\", \"Curie\", \"Hawking\"]"
   ]
  },
  {
   "cell_type": "code",
   "execution_count": 33,
   "id": "c48f0594",
   "metadata": {},
   "outputs": [
    {
     "data": {
      "text/plain": [
       "'Lovelace'"
      ]
     },
     "execution_count": 33,
     "metadata": {},
     "output_type": "execute_result"
    }
   ],
   "source": [
    "names[0]"
   ]
  },
  {
   "cell_type": "code",
   "execution_count": 34,
   "id": "ecdde04e",
   "metadata": {},
   "outputs": [
    {
     "data": {
      "text/plain": [
       "'Darwin'"
      ]
     },
     "execution_count": 34,
     "metadata": {},
     "output_type": "execute_result"
    }
   ],
   "source": [
    "names[1]"
   ]
  },
  {
   "cell_type": "code",
   "execution_count": 35,
   "id": "87ad8868",
   "metadata": {},
   "outputs": [
    {
     "data": {
      "text/plain": [
       "'Hawking'"
      ]
     },
     "execution_count": 35,
     "metadata": {},
     "output_type": "execute_result"
    }
   ],
   "source": [
    "names[-1]"
   ]
  },
  {
   "cell_type": "code",
   "execution_count": 36,
   "id": "b9a32bd6",
   "metadata": {},
   "outputs": [
    {
     "data": {
      "text/plain": [
       "['Lovelace', 'Darwin', 'Curie']"
      ]
     },
     "execution_count": 36,
     "metadata": {},
     "output_type": "execute_result"
    }
   ],
   "source": [
    "names[0:3]"
   ]
  },
  {
   "cell_type": "code",
   "execution_count": 37,
   "id": "72e12faf",
   "metadata": {},
   "outputs": [
    {
     "data": {
      "text/plain": [
       "['Lovelace', 'Darwin']"
      ]
     },
     "execution_count": 37,
     "metadata": {},
     "output_type": "execute_result"
    }
   ],
   "source": [
    "names[:2]"
   ]
  },
  {
   "cell_type": "code",
   "execution_count": 38,
   "id": "6c78e551",
   "metadata": {},
   "outputs": [
    {
     "data": {
      "text/plain": [
       "['Curie', 'Hawking']"
      ]
     },
     "execution_count": 38,
     "metadata": {},
     "output_type": "execute_result"
    }
   ],
   "source": [
    "names[2:]"
   ]
  },
  {
   "cell_type": "code",
   "execution_count": 39,
   "id": "dedfef9d",
   "metadata": {},
   "outputs": [],
   "source": [
    "authors_and_birthyear = {\"Lovelace\": 1815, \"Darwin\": 1809, \"Noether\": 1882, \"Hawking\": 1942}"
   ]
  },
  {
   "cell_type": "code",
   "execution_count": 40,
   "id": "71b12d23",
   "metadata": {},
   "outputs": [
    {
     "data": {
      "text/plain": [
       "1815"
      ]
     },
     "execution_count": 40,
     "metadata": {},
     "output_type": "execute_result"
    }
   ],
   "source": [
    "authors_and_birthyear[\"Lovelace\"]"
   ]
  },
  {
   "cell_type": "code",
   "execution_count": 71,
   "id": "a4499c43",
   "metadata": {},
   "outputs": [
    {
     "data": {
      "text/plain": [
       "[1809, 1810, {'London': 1910, 'Greenwich': 1919}]"
      ]
     },
     "execution_count": 71,
     "metadata": {},
     "output_type": "execute_result"
    }
   ],
   "source": [
    "authors_and_birthyear[\"Darwin\"]"
   ]
  },
  {
   "cell_type": "code",
   "execution_count": 41,
   "id": "29ac7b76",
   "metadata": {},
   "outputs": [
    {
     "ename": "KeyError",
     "evalue": "'LOVELACE'",
     "output_type": "error",
     "traceback": [
      "\u001b[0;31m---------------------------------------------------------------------------\u001b[0m",
      "\u001b[0;31mKeyError\u001b[0m                                  Traceback (most recent call last)",
      "\u001b[0;32m/tmp/ipykernel_16915/3862167680.py\u001b[0m in \u001b[0;36m<module>\u001b[0;34m\u001b[0m\n\u001b[0;32m----> 1\u001b[0;31m \u001b[0mauthors_and_birthyear\u001b[0m\u001b[0;34m[\u001b[0m\u001b[0;34m\"LOVELACE\"\u001b[0m\u001b[0;34m]\u001b[0m\u001b[0;34m\u001b[0m\u001b[0;34m\u001b[0m\u001b[0m\n\u001b[0m",
      "\u001b[0;31mKeyError\u001b[0m: 'LOVELACE'"
     ]
    }
   ],
   "source": [
    "authors_and_birthyear[\"LOVELACE\"]"
   ]
  },
  {
   "cell_type": "code",
   "execution_count": 42,
   "id": "55dde0af",
   "metadata": {},
   "outputs": [],
   "source": [
    "authors_and_birthyear = {\"Lovelace\": 1815, \"Darwin\": [1809, 1810], \"Noether\": 1882, \"Hawking\": 1942}"
   ]
  },
  {
   "cell_type": "code",
   "execution_count": 43,
   "id": "80f85700",
   "metadata": {},
   "outputs": [
    {
     "data": {
      "text/plain": [
       "[1809, 1810]"
      ]
     },
     "execution_count": 43,
     "metadata": {},
     "output_type": "execute_result"
    }
   ],
   "source": [
    "authors_and_birthyear[\"Darwin\"]"
   ]
  },
  {
   "cell_type": "code",
   "execution_count": 52,
   "id": "bb4afd0f",
   "metadata": {},
   "outputs": [],
   "source": [
    "authors_and_birthyear = {\"Lovelace\": 1815, \n",
    "                         \"Darwin\": [1809, 1810, {\"London\": 1910, \"Greenwich\": 1919}], \n",
    "                         \"Noether\": 1882, \n",
    "                         \"Hawking\": 1942}"
   ]
  },
  {
   "cell_type": "code",
   "execution_count": 73,
   "id": "a07dab73",
   "metadata": {},
   "outputs": [
    {
     "data": {
      "text/plain": [
       "1882"
      ]
     },
     "execution_count": 73,
     "metadata": {},
     "output_type": "execute_result"
    }
   ],
   "source": [
    "authors_and_birthyear[\"Noether\"]"
   ]
  },
  {
   "cell_type": "code",
   "execution_count": 117,
   "id": "3303be50",
   "metadata": {},
   "outputs": [
    {
     "data": {
      "text/plain": [
       "1942"
      ]
     },
     "execution_count": 117,
     "metadata": {},
     "output_type": "execute_result"
    }
   ],
   "source": [
    "authors_and_birthyear[\"Hawking\"]"
   ]
  },
  {
   "cell_type": "markdown",
   "id": "41a80f66",
   "metadata": {},
   "source": [
    "# For Schleifen"
   ]
  },
  {
   "cell_type": "code",
   "execution_count": 45,
   "id": "3bbd1c5b",
   "metadata": {},
   "outputs": [],
   "source": [
    "names = [\"Lovelace\", \"Darwin\", \"Curie\", \"Hawking\"]"
   ]
  },
  {
   "cell_type": "code",
   "execution_count": 46,
   "id": "c60b6df0",
   "metadata": {},
   "outputs": [
    {
     "name": "stdout",
     "output_type": "stream",
     "text": [
      "Lovelace did awesome stuff!\n",
      "Darwin did awesome stuff!\n",
      "Curie did awesome stuff!\n",
      "Hawking did awesome stuff!\n"
     ]
    }
   ],
   "source": [
    "for person in names:\n",
    "    print(person + \" did awesome stuff!\")"
   ]
  },
  {
   "cell_type": "code",
   "execution_count": 47,
   "id": "54c49dfe",
   "metadata": {},
   "outputs": [
    {
     "name": "stdout",
     "output_type": "stream",
     "text": [
      "Lovelace did awesome stuff!\n",
      "Darwin did awesome stuff!\n",
      "Curie did awesome stuff!\n",
      "Hawking did awesome stuff!\n"
     ]
    }
   ],
   "source": [
    "for backstein in names:\n",
    "    print(backstein + \" did awesome stuff!\")"
   ]
  },
  {
   "cell_type": "code",
   "execution_count": 48,
   "id": "4ce4eee6",
   "metadata": {},
   "outputs": [
    {
     "name": "stdout",
     "output_type": "stream",
     "text": [
      "Lovelace did awesome stuff!\n",
      "Darwin did awesome stuff!\n",
      "Curie did awesome stuff!\n",
      "Hawking did awesome stuff!\n"
     ]
    }
   ],
   "source": [
    "for backstein in names: print(backstein + \" did awesome stuff!\")"
   ]
  },
  {
   "cell_type": "code",
   "execution_count": 49,
   "id": "80e040d7",
   "metadata": {},
   "outputs": [
    {
     "ename": "IndentationError",
     "evalue": "expected an indented block (507701420.py, line 2)",
     "output_type": "error",
     "traceback": [
      "\u001b[0;36m  File \u001b[0;32m\"/tmp/ipykernel_16915/507701420.py\"\u001b[0;36m, line \u001b[0;32m2\u001b[0m\n\u001b[0;31m    print(backstein + \" did awesome stuff!\")\u001b[0m\n\u001b[0m    ^\u001b[0m\n\u001b[0;31mIndentationError\u001b[0m\u001b[0;31m:\u001b[0m expected an indented block\n"
     ]
    }
   ],
   "source": [
    "for backstein in names:\n",
    "print(backstein + \" did awesome stuff!\")"
   ]
  },
  {
   "cell_type": "code",
   "execution_count": 50,
   "id": "97a7ac79",
   "metadata": {},
   "outputs": [
    {
     "name": "stdout",
     "output_type": "stream",
     "text": [
      "Lovelace did awesome stuff!\n",
      "----\n",
      "Darwin did awesome stuff!\n",
      "----\n",
      "Curie did awesome stuff!\n",
      "----\n",
      "Hawking did awesome stuff!\n",
      "----\n"
     ]
    }
   ],
   "source": [
    "for backstein in names:\n",
    "    print(backstein + \" did awesome stuff!\")\n",
    "    print(\"----\")"
   ]
  },
  {
   "cell_type": "code",
   "execution_count": 51,
   "id": "59a216b5",
   "metadata": {},
   "outputs": [
    {
     "name": "stdout",
     "output_type": "stream",
     "text": [
      "Lovelace did awesome stuff!\n",
      "Darwin did awesome stuff!\n",
      "Curie did awesome stuff!\n",
      "Hawking did awesome stuff!\n",
      "----\n"
     ]
    }
   ],
   "source": [
    "for backstein in names:\n",
    "    print(backstein + \" did awesome stuff!\")\n",
    "print(\"----\")"
   ]
  },
  {
   "cell_type": "code",
   "execution_count": 53,
   "id": "e903c372",
   "metadata": {},
   "outputs": [
    {
     "name": "stdout",
     "output_type": "stream",
     "text": [
      "The Zen of Python, by Tim Peters\n",
      "\n",
      "Beautiful is better than ugly.\n",
      "Explicit is better than implicit.\n",
      "Simple is better than complex.\n",
      "Complex is better than complicated.\n",
      "Flat is better than nested.\n",
      "Sparse is better than dense.\n",
      "Readability counts.\n",
      "Special cases aren't special enough to break the rules.\n",
      "Although practicality beats purity.\n",
      "Errors should never pass silently.\n",
      "Unless explicitly silenced.\n",
      "In the face of ambiguity, refuse the temptation to guess.\n",
      "There should be one-- and preferably only one --obvious way to do it.\n",
      "Although that way may not be obvious at first unless you're Dutch.\n",
      "Now is better than never.\n",
      "Although never is often better than *right* now.\n",
      "If the implementation is hard to explain, it's a bad idea.\n",
      "If the implementation is easy to explain, it may be a good idea.\n",
      "Namespaces are one honking great idea -- let's do more of those!\n"
     ]
    }
   ],
   "source": [
    "import this"
   ]
  },
  {
   "cell_type": "markdown",
   "id": "973636e6",
   "metadata": {},
   "source": [
    "# Bedingte Anweisungen (Conditionals)"
   ]
  },
  {
   "cell_type": "code",
   "execution_count": 55,
   "id": "a8b3502a",
   "metadata": {},
   "outputs": [
    {
     "data": {
      "text/plain": [
       "True"
      ]
     },
     "execution_count": 55,
     "metadata": {},
     "output_type": "execute_result"
    }
   ],
   "source": [
    "20 > 10\n"
   ]
  },
  {
   "cell_type": "code",
   "execution_count": 56,
   "id": "f2e664c0",
   "metadata": {},
   "outputs": [
    {
     "data": {
      "text/plain": [
       "True"
      ]
     },
     "execution_count": 56,
     "metadata": {},
     "output_type": "execute_result"
    }
   ],
   "source": [
    "20> 10"
   ]
  },
  {
   "cell_type": "code",
   "execution_count": 57,
   "id": "41053df5",
   "metadata": {},
   "outputs": [
    {
     "name": "stdout",
     "output_type": "stream",
     "text": [
      "is warm\n"
     ]
    }
   ],
   "source": [
    "temp = 20\n",
    "if temp > 15:\n",
    "    print(\"is warm\")"
   ]
  },
  {
   "cell_type": "code",
   "execution_count": 58,
   "id": "850baae2",
   "metadata": {},
   "outputs": [
    {
     "name": "stdout",
     "output_type": "stream",
     "text": [
      "It's warm\n"
     ]
    }
   ],
   "source": [
    "temp = 20\n",
    "if temp > 15:\n",
    "    print(\"It's warm\")"
   ]
  },
  {
   "cell_type": "code",
   "execution_count": 59,
   "id": "f8546fe4",
   "metadata": {},
   "outputs": [],
   "source": [
    "temp = 5\n",
    "if temp > 15:\n",
    "    print(\"is warm\")"
   ]
  },
  {
   "cell_type": "code",
   "execution_count": 60,
   "id": "0332cf40",
   "metadata": {},
   "outputs": [],
   "source": [
    "temp = 5\n",
    "if temp > 15:\n",
    "    print(\"It's warm\")"
   ]
  },
  {
   "cell_type": "code",
   "execution_count": 61,
   "id": "8918540f",
   "metadata": {},
   "outputs": [],
   "source": [
    "temp = 15\n",
    "if temp > 15:\n",
    "    print(\"It's warm\")"
   ]
  },
  {
   "cell_type": "code",
   "execution_count": 62,
   "id": "f03aa407",
   "metadata": {},
   "outputs": [
    {
     "name": "stdout",
     "output_type": "stream",
     "text": [
      "It's warm\n"
     ]
    }
   ],
   "source": [
    "temp = 15\n",
    "if temp >= 15:\n",
    "    print(\"It's warm\")"
   ]
  },
  {
   "cell_type": "code",
   "execution_count": 64,
   "id": "ec1804eb",
   "metadata": {},
   "outputs": [
    {
     "name": "stdout",
     "output_type": "stream",
     "text": [
      "It's cold.\n"
     ]
    }
   ],
   "source": [
    "temp = 9\n",
    "if temp >= 15:\n",
    "    print(\"It's warm\")\n",
    "else:\n",
    "    print(\"It's cold.\")"
   ]
  },
  {
   "cell_type": "code",
   "execution_count": 65,
   "id": "54209417",
   "metadata": {},
   "outputs": [
    {
     "name": "stdout",
     "output_type": "stream",
     "text": [
      "It's hot.\n"
     ]
    }
   ],
   "source": [
    "temp = 25\n",
    "if temp >= 25:\n",
    "    print(\"It's hot.\")\n",
    "elif temp >= 15:\n",
    "    print(\"It's warm\")\n",
    "else:\n",
    "    print(\"It's cold\")"
   ]
  },
  {
   "cell_type": "code",
   "execution_count": 66,
   "id": "47d6794b",
   "metadata": {},
   "outputs": [
    {
     "name": "stdout",
     "output_type": "stream",
     "text": [
      "It's warm\n"
     ]
    }
   ],
   "source": [
    "temp = 16\n",
    "if temp >= 25:\n",
    "    print(\"It's hot.\")\n",
    "elif temp >= 15:\n",
    "    print(\"It's warm\")\n",
    "else:\n",
    "    print(\"It's cold\")"
   ]
  },
  {
   "cell_type": "code",
   "execution_count": 67,
   "id": "1a015af7",
   "metadata": {},
   "outputs": [
    {
     "name": "stdout",
     "output_type": "stream",
     "text": [
      "It's cold\n"
     ]
    }
   ],
   "source": [
    "temp = 10\n",
    "if temp >= 25:\n",
    "    print(\"It's hot.\")\n",
    "elif temp >= 15:\n",
    "    print(\"It's warm\")\n",
    "else:\n",
    "    print(\"It's cold\")"
   ]
  },
  {
   "cell_type": "code",
   "execution_count": 68,
   "id": "4b32053a",
   "metadata": {},
   "outputs": [
    {
     "ename": "TypeError",
     "evalue": "can only concatenate str (not \"dict\") to str",
     "output_type": "error",
     "traceback": [
      "\u001b[0;31m---------------------------------------------------------------------------\u001b[0m",
      "\u001b[0;31mTypeError\u001b[0m                                 Traceback (most recent call last)",
      "\u001b[0;32m/tmp/ipykernel_16915/3665373878.py\u001b[0m in \u001b[0;36m<module>\u001b[0;34m\u001b[0m\n\u001b[1;32m      2\u001b[0m \u001b[0mnames_and_favourite_dish\u001b[0m \u001b[0;34m=\u001b[0m \u001b[0;34m{\u001b[0m\u001b[0;34m\"Dana\"\u001b[0m\u001b[0;34m:\u001b[0m \u001b[0;34m\"Spaghetti\"\u001b[0m\u001b[0;34m,\u001b[0m \u001b[0;34m\"Heinke\"\u001b[0m\u001b[0;34m:\u001b[0m \u001b[0;34m\"Grünkohl\"\u001b[0m\u001b[0;34m,\u001b[0m \u001b[0;34m\"Johannes\"\u001b[0m\u001b[0;34m:\u001b[0m \u001b[0;34m\"Lasagne\"\u001b[0m\u001b[0;34m}\u001b[0m\u001b[0;34m\u001b[0m\u001b[0;34m\u001b[0m\u001b[0m\n\u001b[1;32m      3\u001b[0m \u001b[0;32mfor\u001b[0m \u001b[0mperson\u001b[0m \u001b[0;32min\u001b[0m \u001b[0mnames1\u001b[0m\u001b[0;34m:\u001b[0m\u001b[0;34m\u001b[0m\u001b[0;34m\u001b[0m\u001b[0m\n\u001b[0;32m----> 4\u001b[0;31m     \u001b[0mprint\u001b[0m \u001b[0;34m(\u001b[0m\u001b[0mperson\u001b[0m \u001b[0;34m+\u001b[0m \u001b[0;34m\" mag gerne\"\u001b[0m \u001b[0;34m+\u001b[0m \u001b[0mnames_and_favourite_dish\u001b[0m\u001b[0;34m)\u001b[0m\u001b[0;34m\u001b[0m\u001b[0;34m\u001b[0m\u001b[0m\n\u001b[0m",
      "\u001b[0;31mTypeError\u001b[0m: can only concatenate str (not \"dict\") to str"
     ]
    }
   ],
   "source": [
    "names1 = [\"Dana\", \"Heinke\", \"Johannes\"]\n",
    "names_and_favourite_dish = {\"Dana\": \"Spaghetti\", \"Heinke\": \"Grünkohl\", \"Johannes\": \"Lasagne\"}\n",
    "for person in names1:\n",
    "    print (person + \" mag gerne\" + names_and_favourite_dish)"
   ]
  },
  {
   "cell_type": "code",
   "execution_count": 70,
   "id": "f374ce59",
   "metadata": {},
   "outputs": [
    {
     "name": "stdout",
     "output_type": "stream",
     "text": [
      "Dana mag gerne Spaghetti\n",
      "Heinke mag gerne Grünkohl\n",
      "Johannes mag gerne Lasagne\n"
     ]
    }
   ],
   "source": [
    "names1 = [\"Dana\", \"Heinke\", \"Johannes\"]\n",
    "names_and_favourite_dish = {\"Dana\": \"Spaghetti\", \"Heinke\": \"Grünkohl\", \"Johannes\": \"Lasagne\"}\n",
    "for person in names1:\n",
    "    print (person + \" mag gerne \" + names_and_favourite_dish[person])"
   ]
  },
  {
   "cell_type": "code",
   "execution_count": 74,
   "id": "638829f0",
   "metadata": {},
   "outputs": [
    {
     "name": "stdout",
     "output_type": "stream",
     "text": [
      "Dana\n",
      "Heinke\n",
      "Johannes\n"
     ]
    }
   ],
   "source": [
    "for person in names1:\n",
    "    print (person)"
   ]
  },
  {
   "cell_type": "code",
   "execution_count": 75,
   "id": "3d48d88f",
   "metadata": {},
   "outputs": [
    {
     "ename": "NameError",
     "evalue": "name 'Dana' is not defined",
     "output_type": "error",
     "traceback": [
      "\u001b[0;31m---------------------------------------------------------------------------\u001b[0m",
      "\u001b[0;31mNameError\u001b[0m                                 Traceback (most recent call last)",
      "\u001b[0;32m/tmp/ipykernel_16915/3014716130.py\u001b[0m in \u001b[0;36m<module>\u001b[0;34m\u001b[0m\n\u001b[0;32m----> 1\u001b[0;31m \u001b[0mliste1\u001b[0m \u001b[0;34m=\u001b[0m \u001b[0;34m[\u001b[0m\u001b[0mDana\u001b[0m\u001b[0;34m,\u001b[0m \u001b[0mHeinke\u001b[0m\u001b[0;34m,\u001b[0m \u001b[0mJohannes\u001b[0m\u001b[0;34m]\u001b[0m\u001b[0;34m\u001b[0m\u001b[0;34m\u001b[0m\u001b[0m\n\u001b[0m\u001b[1;32m      2\u001b[0m \u001b[0;32mfor\u001b[0m \u001b[0mperson\u001b[0m \u001b[0;32min\u001b[0m \u001b[0mliste1\u001b[0m\u001b[0;34m:\u001b[0m\u001b[0;34m\u001b[0m\u001b[0;34m\u001b[0m\u001b[0m\n\u001b[1;32m      3\u001b[0m     \u001b[0mprint\u001b[0m \u001b[0;34m(\u001b[0m\u001b[0mperson\u001b[0m\u001b[0;34m)\u001b[0m\u001b[0;34m\u001b[0m\u001b[0;34m\u001b[0m\u001b[0m\n",
      "\u001b[0;31mNameError\u001b[0m: name 'Dana' is not defined"
     ]
    }
   ],
   "source": [
    "liste1 = [Dana, Heinke, Johannes]\n",
    "for person in liste1:\n",
    "    print (person)"
   ]
  },
  {
   "cell_type": "code",
   "execution_count": 76,
   "id": "9f4d14cf",
   "metadata": {},
   "outputs": [
    {
     "ename": "SyntaxError",
     "evalue": "Missing parentheses in call to 'print'. Did you mean print(\"Python lernen!\")? (2253348367.py, line 1)",
     "output_type": "error",
     "traceback": [
      "\u001b[0;36m  File \u001b[0;32m\"/tmp/ipykernel_16915/2253348367.py\"\u001b[0;36m, line \u001b[0;32m1\u001b[0m\n\u001b[0;31m    print \"Python lernen!\"\u001b[0m\n\u001b[0m          ^\u001b[0m\n\u001b[0;31mSyntaxError\u001b[0m\u001b[0;31m:\u001b[0m Missing parentheses in call to 'print'. Did you mean print(\"Python lernen!\")?\n"
     ]
    }
   ],
   "source": [
    "print \"Python lernen!\""
   ]
  },
  {
   "cell_type": "code",
   "execution_count": 77,
   "id": "64ba791e",
   "metadata": {},
   "outputs": [
    {
     "ename": "SyntaxError",
     "evalue": "invalid syntax (4279822514.py, line 1)",
     "output_type": "error",
     "traceback": [
      "\u001b[0;36m  File \u001b[0;32m\"/tmp/ipykernel_16915/4279822514.py\"\u001b[0;36m, line \u001b[0;32m1\u001b[0m\n\u001b[0;31m    print ()\"Python lernen!\")\u001b[0m\n\u001b[0m            ^\u001b[0m\n\u001b[0;31mSyntaxError\u001b[0m\u001b[0;31m:\u001b[0m invalid syntax\n"
     ]
    }
   ],
   "source": [
    "print ()\"Python lernen!\")"
   ]
  },
  {
   "cell_type": "code",
   "execution_count": 78,
   "id": "31f4db13",
   "metadata": {},
   "outputs": [
    {
     "name": "stdout",
     "output_type": "stream",
     "text": [
      "Python lernen!\n"
     ]
    }
   ],
   "source": [
    "print (\"Python lernen!\")"
   ]
  },
  {
   "cell_type": "code",
   "execution_count": 79,
   "id": "046ecc53",
   "metadata": {},
   "outputs": [
    {
     "ename": "SyntaxError",
     "evalue": "invalid syntax (4082218488.py, line 1)",
     "output_type": "error",
     "traceback": [
      "\u001b[0;36m  File \u001b[0;32m\"/tmp/ipykernel_16915/4082218488.py\"\u001b[0;36m, line \u001b[0;32m1\u001b[0m\n\u001b[0;31m    print (Python lernen!)\u001b[0m\n\u001b[0m                  ^\u001b[0m\n\u001b[0;31mSyntaxError\u001b[0m\u001b[0;31m:\u001b[0m invalid syntax\n"
     ]
    }
   ],
   "source": [
    "print (Python lernen!)"
   ]
  },
  {
   "cell_type": "code",
   "execution_count": 80,
   "id": "c51780d0",
   "metadata": {},
   "outputs": [
    {
     "name": "stdout",
     "output_type": "stream",
     "text": [
      "18\n"
     ]
    }
   ],
   "source": [
    "print (18)"
   ]
  },
  {
   "cell_type": "code",
   "execution_count": 81,
   "id": "efcfb5a4",
   "metadata": {},
   "outputs": [
    {
     "name": "stdout",
     "output_type": "stream",
     "text": [
      "18.2345\n"
     ]
    }
   ],
   "source": [
    "print (18.2345)"
   ]
  },
  {
   "cell_type": "code",
   "execution_count": 82,
   "id": "2905dbbf",
   "metadata": {},
   "outputs": [
    {
     "ename": "SyntaxError",
     "evalue": "Missing parentheses in call to 'print'. Did you mean print(zahl)? (1351550003.py, line 3)",
     "output_type": "error",
     "traceback": [
      "\u001b[0;36m  File \u001b[0;32m\"/tmp/ipykernel_16915/1351550003.py\"\u001b[0;36m, line \u001b[0;32m3\u001b[0m\n\u001b[0;31m    print zahl\u001b[0m\n\u001b[0m          ^\u001b[0m\n\u001b[0;31mSyntaxError\u001b[0m\u001b[0;31m:\u001b[0m Missing parentheses in call to 'print'. Did you mean print(zahl)?\n"
     ]
    }
   ],
   "source": [
    "liste1 = [3, 4, 5, 6, 7, 8]\n",
    "for zahl in liste1:\n",
    "    print zahl"
   ]
  },
  {
   "cell_type": "code",
   "execution_count": 83,
   "id": "0c995b91",
   "metadata": {},
   "outputs": [
    {
     "name": "stdout",
     "output_type": "stream",
     "text": [
      "3\n",
      "4\n",
      "5\n",
      "6\n",
      "7\n",
      "8\n"
     ]
    }
   ],
   "source": [
    "liste1 = [3, 4, 5, 6, 7, 8]\n",
    "for zahl in liste1:\n",
    "    print (zahl)"
   ]
  },
  {
   "cell_type": "code",
   "execution_count": 85,
   "id": "7090435c",
   "metadata": {},
   "outputs": [
    {
     "name": "stdout",
     "output_type": "stream",
     "text": [
      "3\n",
      "4\n",
      "5\n",
      "6\n",
      "7\n",
      "8\n"
     ]
    }
   ],
   "source": [
    "liste1 = [3, 4, 5, 6, 7, 8]\n",
    "for wert in liste1:\n",
    "    print (wert)"
   ]
  },
  {
   "cell_type": "code",
   "execution_count": 88,
   "id": "c3c194c0",
   "metadata": {},
   "outputs": [],
   "source": [
    "liste1 = [3, 4, 5, 6, 7, 8]\n",
    "for wert in liste1:\n",
    "    sum(liste1)"
   ]
  },
  {
   "cell_type": "code",
   "execution_count": 89,
   "id": "423c5ad5",
   "metadata": {},
   "outputs": [
    {
     "ename": "SyntaxError",
     "evalue": "invalid syntax (2906636215.py, line 2)",
     "output_type": "error",
     "traceback": [
      "\u001b[0;36m  File \u001b[0;32m\"/tmp/ipykernel_16915/2906636215.py\"\u001b[0;36m, line \u001b[0;32m2\u001b[0m\n\u001b[0;31m    Summe = sum(liste1):\u001b[0m\n\u001b[0m                       ^\u001b[0m\n\u001b[0;31mSyntaxError\u001b[0m\u001b[0;31m:\u001b[0m invalid syntax\n"
     ]
    }
   ],
   "source": [
    "liste1 = [3, 4, 5, 6, 7, 8]\n",
    "Summe = sum(liste1):\n",
    "    print (\"Summe \" {sum(liste1)})\n"
   ]
  },
  {
   "cell_type": "code",
   "execution_count": 106,
   "id": "7f09bb89",
   "metadata": {},
   "outputs": [
    {
     "name": "stdout",
     "output_type": "stream",
     "text": [
      "Summe ist 33\n"
     ]
    }
   ],
   "source": [
    "liste1 = [3, 4, 5, 6, 7, 8]\n",
    "Summe = sum(liste1)\n",
    "print (f\"Summe ist {Summe}\")"
   ]
  },
  {
   "cell_type": "code",
   "execution_count": 102,
   "id": "5f6c0d2b",
   "metadata": {},
   "outputs": [
    {
     "name": "stdout",
     "output_type": "stream",
     "text": [
      "{33}\n"
     ]
    }
   ],
   "source": [
    "liste1 = [3, 4, 5, 6, 7, 8]\n",
    "for wert in liste1:\n",
    "    sum(liste1)\n",
    "print ({sum(liste1)})"
   ]
  },
  {
   "cell_type": "code",
   "execution_count": 103,
   "id": "198f1f04",
   "metadata": {},
   "outputs": [
    {
     "name": "stdout",
     "output_type": "stream",
     "text": [
      "33\n"
     ]
    }
   ],
   "source": [
    "liste1 = [3, 4, 5, 6, 7, 8]\n",
    "for wert in liste1:\n",
    "    sum(liste1)\n",
    "print (sum(liste1))"
   ]
  },
  {
   "cell_type": "code",
   "execution_count": 104,
   "id": "d5be4f96",
   "metadata": {},
   "outputs": [
    {
     "name": "stdout",
     "output_type": "stream",
     "text": [
      "33\n"
     ]
    }
   ],
   "source": [
    "liste1 = [3, 4, 5, 6, 7, 8]\n",
    "sum(liste1)\n",
    "print (sum(liste1))"
   ]
  },
  {
   "cell_type": "code",
   "execution_count": 111,
   "id": "8969a033",
   "metadata": {},
   "outputs": [
    {
     "name": "stdout",
     "output_type": "stream",
     "text": [
      "Dies ist die Summe {sum(liste1)}\n"
     ]
    }
   ],
   "source": [
    "liste1 = [3, 4, 5, 6, 7, 8]\n",
    "sum(liste1)\n",
    "print (\"Dies ist die Summe \" + \"{sum(liste1)}\")"
   ]
  },
  {
   "cell_type": "code",
   "execution_count": 113,
   "id": "13f6be87",
   "metadata": {},
   "outputs": [
    {
     "ename": "TypeError",
     "evalue": "can only concatenate str (not \"list\") to str",
     "output_type": "error",
     "traceback": [
      "\u001b[0;31m---------------------------------------------------------------------------\u001b[0m",
      "\u001b[0;31mTypeError\u001b[0m                                 Traceback (most recent call last)",
      "\u001b[0;32m/tmp/ipykernel_16915/1016245912.py\u001b[0m in \u001b[0;36m<module>\u001b[0;34m\u001b[0m\n\u001b[1;32m      1\u001b[0m \u001b[0mliste1\u001b[0m \u001b[0;34m=\u001b[0m \u001b[0;34m[\u001b[0m\u001b[0;36m3\u001b[0m\u001b[0;34m,\u001b[0m \u001b[0;36m4\u001b[0m\u001b[0;34m,\u001b[0m \u001b[0;36m5\u001b[0m\u001b[0;34m,\u001b[0m \u001b[0;36m6\u001b[0m\u001b[0;34m,\u001b[0m \u001b[0;36m7\u001b[0m\u001b[0;34m,\u001b[0m \u001b[0;36m8\u001b[0m\u001b[0;34m]\u001b[0m\u001b[0;34m\u001b[0m\u001b[0;34m\u001b[0m\u001b[0m\n\u001b[1;32m      2\u001b[0m \u001b[0msum\u001b[0m\u001b[0;34m(\u001b[0m\u001b[0mliste1\u001b[0m\u001b[0;34m)\u001b[0m\u001b[0;34m\u001b[0m\u001b[0;34m\u001b[0m\u001b[0m\n\u001b[0;32m----> 3\u001b[0;31m \u001b[0mprint\u001b[0m \u001b[0;34m(\u001b[0m\u001b[0;34m\"Dies ist die Summe \"\u001b[0m \u001b[0;34m+\u001b[0m \u001b[0;34m[\u001b[0m\u001b[0msum\u001b[0m\u001b[0;34m(\u001b[0m\u001b[0mliste1\u001b[0m\u001b[0;34m)\u001b[0m\u001b[0;34m]\u001b[0m\u001b[0;34m)\u001b[0m\u001b[0;34m\u001b[0m\u001b[0;34m\u001b[0m\u001b[0m\n\u001b[0m",
      "\u001b[0;31mTypeError\u001b[0m: can only concatenate str (not \"list\") to str"
     ]
    }
   ],
   "source": [
    "liste1 = [3, 4, 5, 6, 7, 8]\n",
    "sum(liste1)\n",
    "print (\"Dies ist die Summe \" + [sum(liste1)])"
   ]
  },
  {
   "cell_type": "code",
   "execution_count": 114,
   "id": "c15a4074",
   "metadata": {},
   "outputs": [
    {
     "ename": "TypeError",
     "evalue": "can only concatenate str (not \"int\") to str",
     "output_type": "error",
     "traceback": [
      "\u001b[0;31m---------------------------------------------------------------------------\u001b[0m",
      "\u001b[0;31mTypeError\u001b[0m                                 Traceback (most recent call last)",
      "\u001b[0;32m/tmp/ipykernel_16915/3620004454.py\u001b[0m in \u001b[0;36m<module>\u001b[0;34m\u001b[0m\n\u001b[1;32m      2\u001b[0m \u001b[0msum\u001b[0m\u001b[0;34m(\u001b[0m\u001b[0mliste1\u001b[0m\u001b[0;34m)\u001b[0m\u001b[0;34m\u001b[0m\u001b[0;34m\u001b[0m\u001b[0m\n\u001b[1;32m      3\u001b[0m \u001b[0mSumme\u001b[0m \u001b[0;34m=\u001b[0m \u001b[0msum\u001b[0m\u001b[0;34m(\u001b[0m\u001b[0mliste1\u001b[0m\u001b[0;34m)\u001b[0m\u001b[0;34m\u001b[0m\u001b[0;34m\u001b[0m\u001b[0m\n\u001b[0;32m----> 4\u001b[0;31m \u001b[0mprint\u001b[0m \u001b[0;34m(\u001b[0m\u001b[0;34m\"Dies ist die Summe \"\u001b[0m \u001b[0;34m+\u001b[0m \u001b[0mSumme\u001b[0m\u001b[0;34m)\u001b[0m\u001b[0;34m\u001b[0m\u001b[0;34m\u001b[0m\u001b[0m\n\u001b[0m",
      "\u001b[0;31mTypeError\u001b[0m: can only concatenate str (not \"int\") to str"
     ]
    }
   ],
   "source": [
    "liste1 = [3, 4, 5, 6, 7, 8]\n",
    "sum(liste1)\n",
    "Summe = sum(liste1)\n",
    "print (\"Dies ist die Summe \" + Summe)"
   ]
  },
  {
   "cell_type": "code",
   "execution_count": 118,
   "id": "574fe68d",
   "metadata": {},
   "outputs": [
    {
     "ename": "TypeError",
     "evalue": "can only concatenate str (not \"int\") to str",
     "output_type": "error",
     "traceback": [
      "\u001b[0;31m---------------------------------------------------------------------------\u001b[0m",
      "\u001b[0;31mTypeError\u001b[0m                                 Traceback (most recent call last)",
      "\u001b[0;32m/tmp/ipykernel_16915/4239258765.py\u001b[0m in \u001b[0;36m<module>\u001b[0;34m\u001b[0m\n\u001b[1;32m      2\u001b[0m \u001b[0mnames_and_favourite_dish\u001b[0m \u001b[0;34m=\u001b[0m \u001b[0;34m{\u001b[0m\u001b[0;34m\"Dana\"\u001b[0m\u001b[0;34m:\u001b[0m \u001b[0;36m1827\u001b[0m\u001b[0;34m,\u001b[0m \u001b[0;34m\"Heinke\"\u001b[0m\u001b[0;34m:\u001b[0m \u001b[0;36m1781\u001b[0m\u001b[0;34m,\u001b[0m \u001b[0;34m\"Johannes\"\u001b[0m\u001b[0;34m:\u001b[0m \u001b[0;36m1988\u001b[0m\u001b[0;34m}\u001b[0m\u001b[0;34m\u001b[0m\u001b[0;34m\u001b[0m\u001b[0m\n\u001b[1;32m      3\u001b[0m \u001b[0;32mfor\u001b[0m \u001b[0mperson\u001b[0m \u001b[0;32min\u001b[0m \u001b[0mnames1\u001b[0m\u001b[0;34m:\u001b[0m\u001b[0;34m\u001b[0m\u001b[0;34m\u001b[0m\u001b[0m\n\u001b[0;32m----> 4\u001b[0;31m     \u001b[0mprint\u001b[0m \u001b[0;34m(\u001b[0m\u001b[0mperson\u001b[0m \u001b[0;34m+\u001b[0m \u001b[0;34m\" mag gerne \"\u001b[0m \u001b[0;34m+\u001b[0m \u001b[0mnames_and_favourite_dish\u001b[0m\u001b[0;34m[\u001b[0m\u001b[0mperson\u001b[0m\u001b[0;34m]\u001b[0m\u001b[0;34m)\u001b[0m\u001b[0;34m\u001b[0m\u001b[0;34m\u001b[0m\u001b[0m\n\u001b[0m",
      "\u001b[0;31mTypeError\u001b[0m: can only concatenate str (not \"int\") to str"
     ]
    }
   ],
   "source": [
    "names1 = [\"Dana\", \"Heinke\", \"Johannes\"]\n",
    "names_and_favourite_dish = {\"Dana\": 1827, \"Heinke\": 1781, \"Johannes\": 1988}\n",
    "for person in names1:\n",
    "    print (person + \" mag gerne \" + names_and_favourite_dish[person])"
   ]
  },
  {
   "cell_type": "code",
   "execution_count": 119,
   "id": "423f9134",
   "metadata": {},
   "outputs": [
    {
     "ename": "TypeError",
     "evalue": "can only concatenate str (not \"int\") to str",
     "output_type": "error",
     "traceback": [
      "\u001b[0;31m---------------------------------------------------------------------------\u001b[0m",
      "\u001b[0;31mTypeError\u001b[0m                                 Traceback (most recent call last)",
      "\u001b[0;32m/tmp/ipykernel_16915/1592433476.py\u001b[0m in \u001b[0;36m<module>\u001b[0;34m\u001b[0m\n\u001b[1;32m      2\u001b[0m \u001b[0mnames_and_favourite_dish\u001b[0m \u001b[0;34m=\u001b[0m \u001b[0;34m{\u001b[0m\u001b[0;34m\"Dana\"\u001b[0m\u001b[0;34m:\u001b[0m \u001b[0;36m1827\u001b[0m\u001b[0;34m,\u001b[0m \u001b[0;34m\"Heinke\"\u001b[0m\u001b[0;34m:\u001b[0m \u001b[0;36m1781\u001b[0m\u001b[0;34m,\u001b[0m \u001b[0;34m\"Johannes\"\u001b[0m\u001b[0;34m:\u001b[0m \u001b[0;36m1988\u001b[0m\u001b[0;34m}\u001b[0m\u001b[0;34m\u001b[0m\u001b[0;34m\u001b[0m\u001b[0m\n\u001b[1;32m      3\u001b[0m \u001b[0;32mfor\u001b[0m \u001b[0mperson\u001b[0m \u001b[0;32min\u001b[0m \u001b[0mnames1\u001b[0m\u001b[0;34m:\u001b[0m\u001b[0;34m\u001b[0m\u001b[0;34m\u001b[0m\u001b[0m\n\u001b[0;32m----> 4\u001b[0;31m     \u001b[0mprint\u001b[0m \u001b[0;34m(\u001b[0m\u001b[0mperson\u001b[0m \u001b[0;34m+\u001b[0m \u001b[0;34m\" mag gerne \"\u001b[0m \u001b[0;34m+\u001b[0m \u001b[0mnames_and_favourite_dish\u001b[0m\u001b[0;34m[\u001b[0m\u001b[0;34m\"Dana\"\u001b[0m\u001b[0;34m]\u001b[0m\u001b[0;34m)\u001b[0m\u001b[0;34m\u001b[0m\u001b[0;34m\u001b[0m\u001b[0m\n\u001b[0m",
      "\u001b[0;31mTypeError\u001b[0m: can only concatenate str (not \"int\") to str"
     ]
    }
   ],
   "source": [
    "names1 = [\"Dana\", \"Heinke\", \"Johannes\"]\n",
    "names_and_favourite_dish = {\"Dana\": 1827, \"Heinke\": 1781, \"Johannes\": 1988}\n",
    "for person in names1:\n",
    "    print (person + \" mag gerne \" + names_and_favourite_dish[\"Dana\"])"
   ]
  },
  {
   "cell_type": "code",
   "execution_count": 120,
   "id": "4614d073",
   "metadata": {},
   "outputs": [
    {
     "name": "stdout",
     "output_type": "stream",
     "text": [
      "{'Lovelace': 1815, 'Darwin': [1809, 1810, {'London': 1910, 'Greenwich': 1919}], 'Noether': 1882, 'Hawking': 1942}\n",
      "{'Lovelace': 1815, 'Darwin': [1809, 1810, {'London': 1910, 'Greenwich': 1919}], 'Noether': 1882, 'Hawking': 1942}\n",
      "{'Lovelace': 1815, 'Darwin': [1809, 1810, {'London': 1910, 'Greenwich': 1919}], 'Noether': 1882, 'Hawking': 1942}\n",
      "{'Lovelace': 1815, 'Darwin': [1809, 1810, {'London': 1910, 'Greenwich': 1919}], 'Noether': 1882, 'Hawking': 1942}\n"
     ]
    }
   ],
   "source": [
    "authors_and_birthyear = {\"Lovelace\": 1815, \n",
    "                         \"Darwin\": [1809, 1810, {\"London\": 1910, \"Greenwich\": 1919}], \n",
    "                         \"Noether\": 1882, \n",
    "                         \"Hawking\": 1942}\n",
    "for wert in authors_and_birthyear:\n",
    "    print(authors_and_birthyear)"
   ]
  },
  {
   "cell_type": "code",
   "execution_count": 122,
   "id": "cfdb0a09",
   "metadata": {},
   "outputs": [
    {
     "name": "stdout",
     "output_type": "stream",
     "text": [
      "{'Lovelace': 1815, 'Darwin': [1809, 1810, {'London': 1910, 'Greenwich': 1919}], 'Noether': 1882, 'Hawking': 1942}\n"
     ]
    }
   ],
   "source": [
    "authors_and_birthyear = {\"Lovelace\": 1815, \n",
    "                         \"Darwin\": [1809, 1810, {\"London\": 1910, \"Greenwich\": 1919}], \n",
    "                         \"Noether\": 1882, \n",
    "                         \"Hawking\": 1942}\n",
    "print(authors_and_birthyear)"
   ]
  },
  {
   "cell_type": "code",
   "execution_count": 123,
   "id": "0079054d",
   "metadata": {},
   "outputs": [],
   "source": [
    "authors_and_birthyear = {\"Lovelace\": 1815, \n",
    "                         \"Darwin\": [1809, 1810, {\"London\": 1910, \"Greenwich\": 1919}], \n",
    "                         \"Noether\": 1882, \n",
    "                         \"Hawking\": 1942}"
   ]
  },
  {
   "cell_type": "code",
   "execution_count": 124,
   "id": "9521827f",
   "metadata": {},
   "outputs": [
    {
     "data": {
      "text/plain": [
       "1882"
      ]
     },
     "execution_count": 124,
     "metadata": {},
     "output_type": "execute_result"
    }
   ],
   "source": [
    "authors_and_birthyear[\"Noether\"]"
   ]
  },
  {
   "cell_type": "code",
   "execution_count": 125,
   "id": "ef74a739",
   "metadata": {},
   "outputs": [
    {
     "name": "stdout",
     "output_type": "stream",
     "text": [
      "Summe ist 33\n"
     ]
    }
   ],
   "source": [
    "liste1 = [3, 4, 5, 6, 7, 8]\n",
    "Summe = sum(liste1)\n",
    "print (f\"Summe ist {Summe}\")"
   ]
  },
  {
   "cell_type": "code",
   "execution_count": 1,
   "id": "c773bc9e",
   "metadata": {},
   "outputs": [
    {
     "name": "stdout",
     "output_type": "stream",
     "text": [
      "{'Lovelace': 1815, 'Darwin': [1809, 1810, {'London': 1910, 'Greenwich': 1919}], 'Noether': 1882, 'Hawking': 1942}\n"
     ]
    }
   ],
   "source": [
    "authors_and_birthyear = {\"Lovelace\": 1815, \n",
    "                         \"Darwin\": [1809, 1810, {\"London\": 1910, \"Greenwich\": 1919}], \n",
    "                         \"Noether\": 1882, \n",
    "                         \"Hawking\": 1942}\n",
    "print(authors_and_birthyear)"
   ]
  },
  {
   "cell_type": "code",
   "execution_count": 2,
   "id": "c25dd6e9",
   "metadata": {},
   "outputs": [
    {
     "name": "stdout",
     "output_type": "stream",
     "text": [
      "Keys and values: \n"
     ]
    }
   ],
   "source": [
    "print(\"Keys and values: \")"
   ]
  },
  {
   "cell_type": "code",
   "execution_count": 3,
   "id": "8dd5c22a",
   "metadata": {},
   "outputs": [
    {
     "name": "stdout",
     "output_type": "stream",
     "text": [
      "Lovelace 1815\n",
      "Darwin [1809, 1810, {'London': 1910, 'Greenwich': 1919}]\n",
      "Noether 1882\n",
      "Hawking 1942\n"
     ]
    }
   ],
   "source": [
    "for name in authors_and_birthyear:\n",
    "    print(name, authors_and_birthyear[name])"
   ]
  },
  {
   "cell_type": "code",
   "execution_count": 4,
   "id": "03601ef4",
   "metadata": {},
   "outputs": [
    {
     "ename": "NameError",
     "evalue": "name 'birthyear' is not defined",
     "output_type": "error",
     "traceback": [
      "\u001b[0;31m---------------------------------------------------------------------------\u001b[0m",
      "\u001b[0;31mNameError\u001b[0m                                 Traceback (most recent call last)",
      "\u001b[0;32m/tmp/ipykernel_3733/129264489.py\u001b[0m in \u001b[0;36m<module>\u001b[0;34m\u001b[0m\n\u001b[1;32m      1\u001b[0m \u001b[0;32mfor\u001b[0m \u001b[0mname\u001b[0m \u001b[0;32min\u001b[0m \u001b[0mauthors_and_birthyear\u001b[0m\u001b[0;34m:\u001b[0m\u001b[0;34m\u001b[0m\u001b[0;34m\u001b[0m\u001b[0m\n\u001b[0;32m----> 2\u001b[0;31m     \u001b[0mprint\u001b[0m\u001b[0;34m(\u001b[0m\u001b[0mname\u001b[0m\u001b[0;34m,\u001b[0m \u001b[0mauthors_and_birthyear\u001b[0m\u001b[0;34m[\u001b[0m\u001b[0mbirthyear\u001b[0m\u001b[0;34m]\u001b[0m\u001b[0;34m)\u001b[0m\u001b[0;34m\u001b[0m\u001b[0;34m\u001b[0m\u001b[0m\n\u001b[0m",
      "\u001b[0;31mNameError\u001b[0m: name 'birthyear' is not defined"
     ]
    }
   ],
   "source": [
    "for name in authors_and_birthyear:\n",
    "    print(name, authors_and_birthyear[birthyear])"
   ]
  },
  {
   "cell_type": "code",
   "execution_count": 5,
   "id": "11344318",
   "metadata": {},
   "outputs": [
    {
     "name": "stdout",
     "output_type": "stream",
     "text": [
      "Dana 1827\n",
      "Heinke 1781\n",
      "Johannes 1988\n"
     ]
    }
   ],
   "source": [
    "names1 = [\"Dana\", \"Heinke\", \"Johannes\"]\n",
    "names_and_favourite_dish = {\"Dana\": 1827, \"Heinke\": 1781, \"Johannes\": 1988}\n",
    "for person in names1:\n",
    "    print (person, names_and_favourite_dish[person])"
   ]
  },
  {
   "cell_type": "code",
   "execution_count": 7,
   "id": "3e03a860",
   "metadata": {},
   "outputs": [
    {
     "name": "stdout",
     "output_type": "stream",
     "text": [
      "Dana hat Geburtstag im Jahr 1827\n",
      "Heinke hat Geburtstag im Jahr 1781\n",
      "Johannes hat Geburtstag im Jahr 1988\n"
     ]
    }
   ],
   "source": [
    "names1 = [\"Dana\", \"Heinke\", \"Johannes\"]\n",
    "names_and_favourite_dish = {\"Dana\": 1827, \"Heinke\": 1781, \"Johannes\": 1988}\n",
    "for person in names1:\n",
    "    print (person, \"hat Geburtstag im Jahr\", names_and_favourite_dish[person])"
   ]
  },
  {
   "cell_type": "code",
   "execution_count": 8,
   "id": "41dead5b",
   "metadata": {},
   "outputs": [
    {
     "name": "stdout",
     "output_type": "stream",
     "text": [
      "Dana mag gerne Spaghetti\n",
      "Heinke mag gerne Grünkohl\n",
      "Johannes mag gerne Lasagne\n"
     ]
    }
   ],
   "source": [
    "names1 = [\"Dana\", \"Heinke\", \"Johannes\"]\n",
    "names_and_favourite_dish = {\"Dana\": \"Spaghetti\", \"Heinke\": \"Grünkohl\", \"Johannes\": \"Lasagne\"}\n",
    "for person in names1:\n",
    "    print (person + \" mag gerne \" + names_and_favourite_dish[person])"
   ]
  },
  {
   "cell_type": "code",
   "execution_count": 9,
   "id": "b312ff4c",
   "metadata": {},
   "outputs": [
    {
     "name": "stdout",
     "output_type": "stream",
     "text": [
      "Dana mag gerne Spaghetti\n",
      "Heinke mag gerne Grünkohl\n",
      "Johannes mag gerne Lasagne\n"
     ]
    }
   ],
   "source": [
    "names_and_favourite_dish = {\"Dana\": \"Spaghetti\", \"Heinke\": \"Grünkohl\", \"Johannes\": \"Lasagne\"}\n",
    "for person in names_and_favourite_dish:\n",
    "    print (person + \" mag gerne \" + names_and_favourite_dish[person])"
   ]
  },
  {
   "cell_type": "code",
   "execution_count": 1,
   "id": "e6acc727",
   "metadata": {},
   "outputs": [
    {
     "name": "stdout",
     "output_type": "stream",
     "text": [
      "Dana mag gerne Spaghetti.\n",
      "Heinke mag gerne Grünkohl.\n",
      "Johannes mag gerne Lasagne.\n"
     ]
    }
   ],
   "source": [
    "names_and_favourite_dish = {\"Dana\": \"Spaghetti\", \"Heinke\": \"Grünkohl\", \"Johannes\": \"Lasagne\"}\n",
    "for person in names_and_favourite_dish:\n",
    "    print (person + \" mag gerne \" + names_and_favourite_dish[person] + \".\") "
   ]
  },
  {
   "cell_type": "code",
   "execution_count": 2,
   "id": "8bec17c6",
   "metadata": {},
   "outputs": [],
   "source": [
    "authors_and_birthyear = {\"Lovelace\": 1815, \n",
    "                         \"Darwin\": [1809, 1810, {\"London\": 1910, \"Greenwich\": 1919}], \n",
    "                         \"Noether\": 1882, \n",
    "                         \"Hawking\": 1942}"
   ]
  },
  {
   "cell_type": "code",
   "execution_count": 3,
   "id": "44b5edbe",
   "metadata": {},
   "outputs": [
    {
     "name": "stdout",
     "output_type": "stream",
     "text": [
      "Dana mag gerne Spaghetti.\n",
      "Heinke mag gerne Grünkohl.\n",
      "Johannes mag gerne Lasagne.\n"
     ]
    }
   ],
   "source": [
    "names_and_favourite_dish = {\"Dana\": \"Spaghetti\", \"Heinke\": \"Grünkohl\", \"Johannes\": \"Lasagne\"}\n",
    "for person in names_and_favourite_dish.keys():\n",
    "    print (person + \" mag gerne \" + names_and_favourite_dish[person] + \".\") "
   ]
  },
  {
   "cell_type": "markdown",
   "id": "d0bb2bae",
   "metadata": {},
   "source": [
    "# .keys() muss nicht explizit dazugenommen werden, wird automatisch ausgegeben."
   ]
  },
  {
   "cell_type": "code",
   "execution_count": 1,
   "id": "4b072144",
   "metadata": {},
   "outputs": [
    {
     "data": {
      "text/plain": [
       "1910"
      ]
     },
     "execution_count": 1,
     "metadata": {},
     "output_type": "execute_result"
    }
   ],
   "source": [
    "authors_and_birthyear = {\"Lovelace\": 1815, \n",
    "                         \"Darwin\": [1809, 1810, {\"London\": 1910, \"Greenwich\": 1919}], \n",
    "                         \"Noether\": 1882, \n",
    "                         \"Hawking\": 1942}\n",
    "authors_and_birthyear [\"Darwin\"][2][\"London\"]"
   ]
  },
  {
   "cell_type": "code",
   "execution_count": null,
   "id": "145195a6",
   "metadata": {},
   "outputs": [],
   "source": []
  }
 ],
 "metadata": {
  "kernelspec": {
   "display_name": "Python 3 (ipykernel)",
   "language": "python",
   "name": "python3"
  },
  "language_info": {
   "codemirror_mode": {
    "name": "ipython",
    "version": 3
   },
   "file_extension": ".py",
   "mimetype": "text/x-python",
   "name": "python",
   "nbconvert_exporter": "python",
   "pygments_lexer": "ipython3",
   "version": "3.9.7"
  }
 },
 "nbformat": 4,
 "nbformat_minor": 5
}

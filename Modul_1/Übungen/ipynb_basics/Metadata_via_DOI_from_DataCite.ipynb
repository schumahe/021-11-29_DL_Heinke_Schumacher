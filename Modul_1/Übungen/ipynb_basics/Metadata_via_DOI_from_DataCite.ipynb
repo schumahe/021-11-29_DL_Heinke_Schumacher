{
 "cells": [
  {
   "cell_type": "code",
   "execution_count": 18,
   "id": "0e5d3c98",
   "metadata": {},
   "outputs": [],
   "source": [
    "import urllib.request\n",
    "import json\n",
    "\n",
    "base_url = \"https://api.datacite.org/application/vnd.datacite.datacite+json/\"\n",
    "doi = \"10.5281/zenodo.5563162\"\n",
    "full_url = base_url + doi"
   ]
  },
  {
   "cell_type": "code",
   "execution_count": 2,
   "id": "42f38772",
   "metadata": {},
   "outputs": [],
   "source": [
    "doi_json_dataset = urllib.request.urlopen(full_url).read()"
   ]
  },
  {
   "cell_type": "code",
   "execution_count": 3,
   "id": "3a1594b5",
   "metadata": {},
   "outputs": [],
   "source": [
    "doi_dataset = json.loads(doi_json_dataset)"
   ]
  },
  {
   "cell_type": "code",
   "execution_count": 4,
   "id": "712fcade",
   "metadata": {},
   "outputs": [
    {
     "data": {
      "text/plain": [
       "{'id': 'https://doi.org/10.5281/zenodo.5563162',\n",
       " 'doi': '10.5281/ZENODO.5563162',\n",
       " 'url': 'https://zenodo.org/record/5563162',\n",
       " 'types': {'ris': 'DATA',\n",
       "  'bibtex': 'misc',\n",
       "  'citeproc': 'dataset',\n",
       "  'schemaOrg': 'Dataset',\n",
       "  'resourceTypeGeneral': 'Dataset'},\n",
       " 'creators': [{'name': 'Banda, Juan M.',\n",
       "   'givenName': 'Juan M.',\n",
       "   'familyName': 'Banda',\n",
       "   'affiliation': [{'name': 'Georgia State University'}],\n",
       "   'nameIdentifiers': [{'schemeUri': 'https://orcid.org',\n",
       "     'nameIdentifier': 'https://orcid.org/0000-0001-8499-824X',\n",
       "     'nameIdentifierScheme': 'ORCID'}]},\n",
       "  {'name': 'Tekumalla, Ramya',\n",
       "   'givenName': 'Ramya',\n",
       "   'familyName': 'Tekumalla',\n",
       "   'affiliation': [{'name': 'Georgia State University'}],\n",
       "   'nameIdentifiers': [{'schemeUri': 'https://orcid.org',\n",
       "     'nameIdentifier': 'https://orcid.org/0000-0002-1606-4856',\n",
       "     'nameIdentifierScheme': 'ORCID'}]},\n",
       "  {'name': 'Wang, Guanyu',\n",
       "   'givenName': 'Guanyu',\n",
       "   'familyName': 'Wang',\n",
       "   'affiliation': [{'name': 'University of Missouri'}]},\n",
       "  {'name': 'Yu, Jingyuan',\n",
       "   'givenName': 'Jingyuan',\n",
       "   'familyName': 'Yu',\n",
       "   'affiliation': [{'name': 'Universitat Autònoma de Barcelona'}]},\n",
       "  {'name': 'Liu, Tuo',\n",
       "   'givenName': 'Tuo',\n",
       "   'familyName': 'Liu',\n",
       "   'affiliation': [{'name': 'Carl von Ossietzky Universität Oldenburg'}]},\n",
       "  {'name': 'Ding, Yuning',\n",
       "   'givenName': 'Yuning',\n",
       "   'familyName': 'Ding',\n",
       "   'affiliation': [{'name': 'Universität Duisburg-Essen'}]},\n",
       "  {'name': 'Artemova, Katya',\n",
       "   'givenName': 'Katya',\n",
       "   'familyName': 'Artemova',\n",
       "   'affiliation': [{'name': 'NRU HSE'}]},\n",
       "  {'name': 'Tutubalina, Elena',\n",
       "   'givenName': 'Elena',\n",
       "   'familyName': 'Tutubalina',\n",
       "   'affiliation': [{'name': 'KFU'}]},\n",
       "  {'name': 'Chowell, Gerardo',\n",
       "   'givenName': 'Gerardo',\n",
       "   'familyName': 'Chowell',\n",
       "   'affiliation': [{'name': 'Georgia State University'}],\n",
       "   'nameIdentifiers': [{'schemeUri': 'https://orcid.org',\n",
       "     'nameIdentifier': 'https://orcid.org/0000-0003-2194-2251',\n",
       "     'nameIdentifierScheme': 'ORCID'}]}],\n",
       " 'titles': [{'title': 'A large-scale COVID-19 Twitter chatter dataset for open scientific research - an international collaboration'}],\n",
       " 'publisher': 'Zenodo',\n",
       " 'container': {'type': 'DataRepository',\n",
       "  'identifier': 'https://zenodo.org/communities/biohackathon',\n",
       "  'identifierType': 'URL'},\n",
       " 'subjects': [{'subject': 'social media'},\n",
       "  {'subject': 'twitter'},\n",
       "  {'subject': 'nlp'},\n",
       "  {'subject': 'covid-19'},\n",
       "  {'subject': 'covid19'}],\n",
       " 'contributors': [],\n",
       " 'dates': [{'date': '2021-10-10', 'dateType': 'Issued'}],\n",
       " 'publicationYear': 2021,\n",
       " 'language': 'en',\n",
       " 'identifiers': [{'identifier': 'https://github.com/thepanacealab/covid19_twitter',\n",
       "   'identifierType': 'URL'},\n",
       "  {'identifier': 'https://zenodo.org/record/5563162',\n",
       "   'identifierType': 'URL'}],\n",
       " 'sizes': [],\n",
       " 'formats': [],\n",
       " 'version': '83',\n",
       " 'rightsList': [{'rights': 'Open Access',\n",
       "   'rightsUri': 'info:eu-repo/semantics/openAccess'}],\n",
       " 'descriptions': [{'description': '<em><strong>Version 83 of the dataset. The peer-reviewed publication for this dataset has now been published in Epidemiologia an MDPI journal, and can be accessed here: https://doi.org/10.3390/epidemiologia2030024. Please cite this when using the dataset.</strong></em> <strong>Due to the relevance of the COVID-19 global pandemic, we are releasing our dataset of tweets acquired from the Twitter Stream related to COVID-19 chatter. Since our first release we have received additional data from our new collaborators, allowing this resource to grow to its current size. Dedicated data gathering started from March 11th yielding over 4 million tweets a day. We have added additional data provided by our new collaborators from January 27th to March 27th, to provide extra longitudinal coverage. Version 10 added ~1.5 million tweets in the Russian language collected between January 1st and May 8th, gracefully provided to us by: Katya Artemova (NRU HSE) and Elena Tutubalina (KFU). From version 12 we have included daily hashtags, mentions and emoijis and their frequencies the respective zip files. From version 14 <em>we</em> have included the tweet identifiers and their respective language for the clean version of the dataset. Since version 20 we have included language and place location for all tweets.</strong> <strong>The data collected from the stream captures all languages, but the higher prevalence are: English, Spanish, and French. We release all tweets and retweets on the full_dataset.tsv file (1,222,981,652 unique tweets), and a cleaned version with no retweets on the full_dataset-clean.tsv file (313,558,225 unique tweets). There are several practical reasons for us to leave the retweets, tracing important tweets and their dissemination is one of them. For NLP tasks we provide the top 1000 frequent terms in frequent_terms.csv, the top 1000 bigrams in frequent_bigrams.csv, and the top 1000 trigrams in frequent_trigrams.csv. Some general statistics per day are included for both datasets in the full_dataset-statistics.tsv and full_dataset-clean-statistics.tsv files. For more statistics and some visualizations visit: http://www.panacealab.org/covid19/ </strong> <strong>More details can be found (and will be updated faster at: https://github.com/thepanacealab/covid19_twitter) and our pre-print about the dataset (https://arxiv.org/abs/2004.03688) </strong> <strong>As always, the tweets distributed here are only tweet identifiers (with date and time added) due to the terms and conditions of Twitter to re-distribute Twitter data ONLY for research purposes. They need to be hydrated to be used.</strong>',\n",
       "   'descriptionType': 'Abstract'},\n",
       "  {'description': 'This dataset will be updated bi-weekly at least with additional tweets, look at the github repo for these updates. Release: We have standardized the name of the resource to match our pre-print manuscript and to not have to update it every week.',\n",
       "   'descriptionType': 'Other'}],\n",
       " 'geoLocations': [],\n",
       " 'fundingReferences': [],\n",
       " 'relatedIdentifiers': [{'relationType': 'IsContinuedBy',\n",
       "   'relatedIdentifier': 'http://www.panacealab.org/covid19/',\n",
       "   'resourceTypeGeneral': 'Other',\n",
       "   'relatedIdentifierType': 'URL'},\n",
       "  {'relationType': 'IsSupplementTo',\n",
       "   'relatedIdentifier': 'https://arxiv.org/abs/2004.03688',\n",
       "   'resourceTypeGeneral': 'Preprint',\n",
       "   'relatedIdentifierType': 'URL'},\n",
       "  {'relationType': 'IsVersionOf',\n",
       "   'relatedIdentifier': '10.5281/zenodo.3723939',\n",
       "   'relatedIdentifierType': 'DOI'},\n",
       "  {'relationType': 'IsPartOf',\n",
       "   'relatedIdentifier': 'https://zenodo.org/communities/biohackathon',\n",
       "   'relatedIdentifierType': 'URL'},\n",
       "  {'relationType': 'IsPartOf',\n",
       "   'relatedIdentifier': 'https://zenodo.org/communities/covid-19',\n",
       "   'relatedIdentifierType': 'URL'},\n",
       "  {'relationType': 'IsPartOf',\n",
       "   'relatedIdentifier': 'https://zenodo.org/communities/zenodo',\n",
       "   'relatedIdentifierType': 'URL'}],\n",
       " 'relatedItems': [],\n",
       " 'schemaVersion': 'http://datacite.org/schema/kernel-4',\n",
       " 'providerId': 'cern',\n",
       " 'clientId': 'cern.zenodo',\n",
       " 'agency': 'datacite',\n",
       " 'state': 'findable'}"
      ]
     },
     "execution_count": 4,
     "metadata": {},
     "output_type": "execute_result"
    }
   ],
   "source": [
    "doi_dataset"
   ]
  },
  {
   "cell_type": "code",
   "execution_count": 5,
   "id": "20f59e26",
   "metadata": {},
   "outputs": [
    {
     "data": {
      "text/plain": [
       "str"
      ]
     },
     "execution_count": 5,
     "metadata": {},
     "output_type": "execute_result"
    }
   ],
   "source": [
    "type(doi)"
   ]
  },
  {
   "cell_type": "code",
   "execution_count": 6,
   "id": "3e2f253c",
   "metadata": {},
   "outputs": [
    {
     "data": {
      "text/plain": [
       "dict"
      ]
     },
     "execution_count": 6,
     "metadata": {},
     "output_type": "execute_result"
    }
   ],
   "source": [
    "type(doi_dataset)"
   ]
  },
  {
   "cell_type": "code",
   "execution_count": 7,
   "id": "b6d8cc4a",
   "metadata": {},
   "outputs": [
    {
     "data": {
      "text/plain": [
       "dict_keys(['id', 'doi', 'url', 'types', 'creators', 'titles', 'publisher', 'container', 'subjects', 'contributors', 'dates', 'publicationYear', 'language', 'identifiers', 'sizes', 'formats', 'version', 'rightsList', 'descriptions', 'geoLocations', 'fundingReferences', 'relatedIdentifiers', 'relatedItems', 'schemaVersion', 'providerId', 'clientId', 'agency', 'state'])"
      ]
     },
     "execution_count": 7,
     "metadata": {},
     "output_type": "execute_result"
    }
   ],
   "source": [
    "doi_dataset.keys()"
   ]
  },
  {
   "cell_type": "code",
   "execution_count": 9,
   "id": "0ae84c86",
   "metadata": {},
   "outputs": [
    {
     "name": "stdout",
     "output_type": "stream",
     "text": [
      "2021\n"
     ]
    }
   ],
   "source": [
    "print(doi_dataset[\"publicationYear\"])"
   ]
  },
  {
   "cell_type": "code",
   "execution_count": 10,
   "id": "feda7218",
   "metadata": {},
   "outputs": [
    {
     "name": "stdout",
     "output_type": "stream",
     "text": [
      "[{'name': 'Banda, Juan M.', 'givenName': 'Juan M.', 'familyName': 'Banda', 'affiliation': [{'name': 'Georgia State University'}], 'nameIdentifiers': [{'schemeUri': 'https://orcid.org', 'nameIdentifier': 'https://orcid.org/0000-0001-8499-824X', 'nameIdentifierScheme': 'ORCID'}]}, {'name': 'Tekumalla, Ramya', 'givenName': 'Ramya', 'familyName': 'Tekumalla', 'affiliation': [{'name': 'Georgia State University'}], 'nameIdentifiers': [{'schemeUri': 'https://orcid.org', 'nameIdentifier': 'https://orcid.org/0000-0002-1606-4856', 'nameIdentifierScheme': 'ORCID'}]}, {'name': 'Wang, Guanyu', 'givenName': 'Guanyu', 'familyName': 'Wang', 'affiliation': [{'name': 'University of Missouri'}]}, {'name': 'Yu, Jingyuan', 'givenName': 'Jingyuan', 'familyName': 'Yu', 'affiliation': [{'name': 'Universitat Autònoma de Barcelona'}]}, {'name': 'Liu, Tuo', 'givenName': 'Tuo', 'familyName': 'Liu', 'affiliation': [{'name': 'Carl von Ossietzky Universität Oldenburg'}]}, {'name': 'Ding, Yuning', 'givenName': 'Yuning', 'familyName': 'Ding', 'affiliation': [{'name': 'Universität Duisburg-Essen'}]}, {'name': 'Artemova, Katya', 'givenName': 'Katya', 'familyName': 'Artemova', 'affiliation': [{'name': 'NRU HSE'}]}, {'name': 'Tutubalina, Elena', 'givenName': 'Elena', 'familyName': 'Tutubalina', 'affiliation': [{'name': 'KFU'}]}, {'name': 'Chowell, Gerardo', 'givenName': 'Gerardo', 'familyName': 'Chowell', 'affiliation': [{'name': 'Georgia State University'}], 'nameIdentifiers': [{'schemeUri': 'https://orcid.org', 'nameIdentifier': 'https://orcid.org/0000-0003-2194-2251', 'nameIdentifierScheme': 'ORCID'}]}]\n"
     ]
    }
   ],
   "source": [
    "print(doi_dataset[\"creators\"])"
   ]
  },
  {
   "cell_type": "code",
   "execution_count": 11,
   "id": "a4985faf",
   "metadata": {},
   "outputs": [
    {
     "name": "stdout",
     "output_type": "stream",
     "text": [
      "{'name': 'Banda, Juan M.', 'givenName': 'Juan M.', 'familyName': 'Banda', 'affiliation': [{'name': 'Georgia State University'}], 'nameIdentifiers': [{'schemeUri': 'https://orcid.org', 'nameIdentifier': 'https://orcid.org/0000-0001-8499-824X', 'nameIdentifierScheme': 'ORCID'}]}\n"
     ]
    }
   ],
   "source": [
    "print(doi_dataset[\"creators\"][0])"
   ]
  },
  {
   "cell_type": "code",
   "execution_count": 12,
   "id": "ba6cc706",
   "metadata": {},
   "outputs": [
    {
     "name": "stdout",
     "output_type": "stream",
     "text": [
      "Banda, Juan M.\n"
     ]
    }
   ],
   "source": [
    "print(doi_dataset[\"creators\"][0][\"name\"])"
   ]
  },
  {
   "cell_type": "code",
   "execution_count": 14,
   "id": "09049fff",
   "metadata": {},
   "outputs": [
    {
     "name": "stdout",
     "output_type": "stream",
     "text": [
      "[{'title': 'A large-scale COVID-19 Twitter chatter dataset for open scientific research - an international collaboration'}]\n"
     ]
    }
   ],
   "source": [
    "print(doi_dataset[\"titles\"])"
   ]
  },
  {
   "cell_type": "code",
   "execution_count": 17,
   "id": "eb1d47e7",
   "metadata": {},
   "outputs": [
    {
     "ename": "IndexError",
     "evalue": "list index out of range",
     "output_type": "error",
     "traceback": [
      "\u001b[0;31m---------------------------------------------------------------------------\u001b[0m",
      "\u001b[0;31mIndexError\u001b[0m                                Traceback (most recent call last)",
      "\u001b[0;32m/tmp/ipykernel_6807/324502411.py\u001b[0m in \u001b[0;36m<module>\u001b[0;34m\u001b[0m\n\u001b[0;32m----> 1\u001b[0;31m \u001b[0mprint\u001b[0m\u001b[0;34m(\u001b[0m\u001b[0mdoi_dataset\u001b[0m\u001b[0;34m[\u001b[0m\u001b[0;34m\"titles\"\u001b[0m\u001b[0;34m]\u001b[0m\u001b[0;34m[\u001b[0m\u001b[0;36m1\u001b[0m\u001b[0;34m]\u001b[0m\u001b[0;34m[\u001b[0m\u001b[0;34m\"title\"\u001b[0m\u001b[0;34m]\u001b[0m\u001b[0;34m)\u001b[0m\u001b[0;34m\u001b[0m\u001b[0;34m\u001b[0m\u001b[0m\n\u001b[0m",
      "\u001b[0;31mIndexError\u001b[0m: list index out of range"
     ]
    }
   ],
   "source": [
    "print(doi_dataset[\"titles\"][1][\"title\"])"
   ]
  },
  {
   "cell_type": "code",
   "execution_count": 19,
   "id": "5e1236f7",
   "metadata": {},
   "outputs": [],
   "source": [
    "dois = [\"10.6084/m9.figshare.155613\",\n",
    "        \"10.6084/m9.figshare.153821.v1\",\n",
    "        \"10.7490/f1000research.1115338.1\",\n",
    "        \"10.5281/zenodo.2599866\"]"
   ]
  },
  {
   "cell_type": "code",
   "execution_count": null,
   "id": "cf590891",
   "metadata": {},
   "outputs": [],
   "source": [
    "base_url = \"https://api.datacite.org/application/vnd.datacite.datacite+json/\"\n",
    "doi = \"10.5281/zenodo.5563162\"\n",
    "full_url = base_url + doi"
   ]
  },
  {
   "cell_type": "code",
   "execution_count": 29,
   "id": "a8581371",
   "metadata": {},
   "outputs": [
    {
     "name": "stdout",
     "output_type": "stream",
     "text": [
      "https://api.datacite.org/application/vnd.datacite.datacite+json/10.6084/m9.figshare.155613\n",
      "{'id': 'https://doi.org/10.6084/m9.figshare.155613', 'doi': '10.6084/M9.FIGSHARE.155613', 'url': 'https://figshare.com/articles/dataset/git_repository_for_paper_on_git_and_reproducible_science/155613', 'types': {'ris': 'DATA', 'bibtex': 'misc', 'citeproc': 'dataset', 'schemaOrg': 'Dataset', 'resourceType': 'Dataset', 'resourceTypeGeneral': 'Dataset'}, 'creators': [{'name': 'Ram, Karthik', 'nameType': 'Personal', 'givenName': 'Karthik', 'familyName': 'Ram', 'affiliation': [], 'nameIdentifiers': [{'schemeUri': 'https://orcid.org', 'nameIdentifier': 'https://orcid.org/0000-0002-0233-1757', 'nameIdentifierScheme': 'ORCID'}]}], 'titles': [{'title': 'git repository for paper on git and reproducible science'}], 'publisher': 'figshare', 'container': {}, 'subjects': [{'subject': '60102 Bioinformatics', 'subjectScheme': 'FOR'}, {'subject': 'FOS: Computer and information sciences', 'schemeUri': 'http://www.oecd.org/science/inno/38235147.pdf', 'subjectScheme': 'Fields of Science and Technology (FOS)'}, {'subject': 'FOS: Computer and information sciences', 'subjectScheme': 'Fields of Science and Technology (FOS)'}], 'contributors': [], 'dates': [{'date': '2013-02-02', 'dateType': 'Created'}, {'date': '2013-02-11', 'dateType': 'Updated'}, {'date': '2013', 'dateType': 'Issued'}], 'publicationYear': 2013, 'identifiers': [], 'sizes': ['18290097 Bytes'], 'formats': [], 'rightsList': [{'rights': 'Creative Commons Attribution 4.0 International', 'rightsUri': 'https://creativecommons.org/licenses/by/4.0/legalcode', 'schemeUri': 'https://spdx.org/licenses/', 'rightsIdentifier': 'cc-by-4.0', 'rightsIdentifierScheme': 'SPDX'}], 'descriptions': [{'description': \"This is the archived git repostiory for this paper: git can facilitate greater reproducibility and increased transparency in science Paper is currently in press in Source Code in Medicine and Biology and this zipped repo gives you access to the full history of the paper's development.\", 'descriptionType': 'Abstract'}], 'geoLocations': [], 'fundingReferences': [], 'relatedIdentifiers': [], 'schemaVersion': 'http://datacite.org/schema/kernel-4', 'providerId': 'figshare', 'clientId': 'figshare.ars', 'agency': 'datacite', 'state': 'findable'}\n",
      "-------\n",
      "https://api.datacite.org/application/vnd.datacite.datacite+json/10.6084/m9.figshare.153821.v1\n",
      "{'id': 'https://doi.org/10.6084/m9.figshare.153821.v1', 'doi': '10.6084/M9.FIGSHARE.153821.V1', 'url': 'https://figshare.com/articles/dataset/git_can_facilitate_greater_reproducibility_and_increased_transparency_in_science/153821/1', 'types': {'ris': 'DATA', 'bibtex': 'misc', 'citeproc': 'dataset', 'schemaOrg': 'Dataset', 'resourceType': 'Dataset', 'resourceTypeGeneral': 'Dataset'}, 'creators': [{'name': 'Ram, Karthik', 'nameType': 'Personal', 'givenName': 'Karthik', 'familyName': 'Ram', 'affiliation': [], 'nameIdentifiers': [{'schemeUri': 'https://orcid.org', 'nameIdentifier': 'https://orcid.org/0000-0002-0233-1757', 'nameIdentifierScheme': 'ORCID'}]}], 'titles': [{'title': 'git can facilitate greater reproducibility and increased transparency in science'}], 'publisher': 'figshare', 'container': {}, 'subjects': [{'subject': '60102 Bioinformatics', 'subjectScheme': 'FOR'}, {'subject': 'FOS: Computer and information sciences', 'schemeUri': 'http://www.oecd.org/science/inno/38235147.pdf', 'subjectScheme': 'Fields of Science and Technology (FOS)'}, {'subject': 'FOS: Computer and information sciences', 'subjectScheme': 'Fields of Science and Technology (FOS)'}], 'contributors': [], 'dates': [{'date': '2013-01-21', 'dateType': 'Created'}, {'date': '2016-01-11', 'dateType': 'Updated'}, {'date': '2013', 'dateType': 'Issued'}], 'publicationYear': 2013, 'identifiers': [], 'sizes': ['0 Bytes'], 'formats': [], 'rightsList': [{'rights': 'Creative Commons Attribution 4.0 International', 'rightsUri': 'https://creativecommons.org/licenses/by/4.0/legalcode', 'schemeUri': 'https://spdx.org/licenses/', 'rightsIdentifier': 'cc-by-4.0', 'rightsIdentifierScheme': 'SPDX'}], 'descriptions': [{'description': 'Pre-print of my article describing how git can be used to improve science.', 'descriptionType': 'Abstract'}], 'geoLocations': [], 'fundingReferences': [], 'relatedIdentifiers': [{'relationType': 'IsPreviousVersionOf', 'relatedIdentifier': '10.6084/m9.figshare.153821', 'relatedIdentifierType': 'DOI'}], 'schemaVersion': 'http://datacite.org/schema/kernel-4', 'providerId': 'figshare', 'clientId': 'figshare.ars', 'agency': 'datacite', 'state': 'findable'}\n",
      "-------\n",
      "https://api.datacite.org/application/vnd.datacite.datacite+json/10.7490/f1000research.1115338.1\n",
      "{'id': 'https://doi.org/10.7490/f1000research.1115338.1', 'doi': '10.7490/F1000RESEARCH.1115338.1', 'url': 'https://f1000research.com/slides/7-379', 'types': {'ris': 'GEN', 'bibtex': 'misc', 'citeproc': 'article', 'schemaOrg': 'CreativeWork', 'resourceTypeGeneral': 'Other'}, 'creators': [{'name': 'Lindstädt, Birte', 'nameType': 'Personal', 'givenName': 'Birte', 'familyName': 'Lindstädt', 'affiliation': []}], 'titles': [{'title': 'The role of the German National Library for Life Sciences ZB MED in the approach to a FAIR Research Data Infrastructure in Agricultural Science embedded in the Life Sciences'}], 'publisher': 'F1000 Research Limited', 'container': {}, 'subjects': [], 'contributors': [], 'dates': [{'date': '2018', 'dateType': 'Issued'}], 'publicationYear': 2018, 'identifiers': [], 'sizes': [], 'formats': [], 'rightsList': [], 'descriptions': [{'description': 'In Germany there is an approach to build a FAIR Research Data Infrastructure triggered through the German federal government to accelerate the digital transition in science. Therefore since 2014 the Council for Scientific Information Infrastructures (German – Rat für Informations infrastrukturen, abbr. RfII) has been an important advisory circle for the German federal government. The management of research data has been identified as a key challenge by the council. In summer 2016 the RfII published its policy paper “Performance through Diversity” and delivered recommendations concerning structures, processes, and financing for research data management in Germany. Aim is the funding of a domain specific “National Research Data Infrastructure - NFDI”. In this context ZB MED as a specialist library and research infrastructure offers a range of services like archiving and publication infrastructure, minting of DOIs, retrieval of research data or teaching and training. Furthermore ZB MED is involved in agricultural research projects e.g. in the role of a data manager to establish a data management plan together with the researchers with the help of a software tool. From the view of ZB MED the term “life sciences” covers medicine, health, environmental, nutrition and agricultural sciences. The talk will delineate the political framework on the road to a FAIR research data infrastructure in Germany on one side and on the other side the work of a specialist national library to support and implement this infrastructure in the life sciences.', 'descriptionType': 'Other'}], 'geoLocations': [], 'fundingReferences': [], 'relatedIdentifiers': [], 'providerId': 'zwfe', 'clientId': 'bl.f1000r', 'agency': 'datacite', 'state': 'findable'}\n",
      "-------\n",
      "https://api.datacite.org/application/vnd.datacite.datacite+json/10.5281/zenodo.2599866\n",
      "{'id': 'https://doi.org/10.5281/zenodo.2599866', 'doi': '10.5281/ZENODO.2599866', 'url': 'https://zenodo.org/record/2599866', 'types': {'ris': 'GEN', 'bibtex': 'misc', 'citeproc': 'article', 'schemaOrg': 'CreativeWork', 'resourceTypeGeneral': 'Other'}, 'creators': [{'name': 'Landesinitiative NFDI Der Digitalen Hochschule NRW', 'affiliation': [], 'nameIdentifiers': []}, {'name': 'AG FDM Awareness', 'affiliation': [], 'nameIdentifiers': []}], 'titles': [{'title': 'Nachnutzbare Awarenessmaterialien für Forschungsdatenmanagement (FDM)'}], 'publisher': 'Zenodo', 'container': {}, 'subjects': [{'subject': 'RDM'}, {'subject': 'FDM'}, {'subject': 'Researchdatamanagement'}, {'subject': 'Forschungsdatenmanagement'}, {'subject': 'Researchdata'}, {'subject': 'Forschungsdaten'}], 'contributors': [], 'dates': [{'date': '2019-03-26', 'dateType': 'Issued'}], 'publicationYear': 2019, 'language': 'de', 'identifiers': [], 'sizes': [], 'formats': [], 'rightsList': [{'rights': 'Open Access', 'rightsUri': 'info:eu-repo/semantics/openAccess'}], 'descriptions': [{'description': 'In Rechenzentren, Bibliotheken und Einrichtungen für Forschungsförderung ist man sich der Bedeutung von FDM längst bewusst. Doch auch wenn Daten als Grundlage zukunftsfähiger Forschung gelten und Basis von Wissensgenerierung sind, bedarf es in der Breite der Forschenden noch viel Sensibilisierung und Aufklärung. Zur Unterstützung der Mitarbeiterinnen und Mitarbeiter der Infrastruktureinrichtungen bei dieser Aufgabe, hat die Landesinitiative fdm.nrw gemeinsam mit einer hochschulübergreifenden Arbeitsgruppe Awareness-Materialien für FDM entwickelt, die zur freien Nachnutzung und Anpassung unter der Lizenz CC0 (Ausnahmen wurden gekennzeichnet) zur Verfügung stehen. Diese wurden im April 2019 veröffentlicht. Die Awareness-Materialien werden stetig erweitert. In Version 2 wurden Flyer zur Informationsplattform forschungsdaten.info und zum Thema Datenschutz ergänzt. Alle Flyer wurden zudem auf Englisch übersetzt. Kontakt: info@fdm.nrw', 'descriptionType': 'Abstract'}, {'description': 'Die Flyer und Poster liegen als PDF sowie als Indesign-Dateien (*indd) sowie als IDML-Dateien vor. Die verwendeten Bilder finden sich im jeweiligen \"Links\"-Ordner.', 'descriptionType': 'Other'}], 'geoLocations': [], 'fundingReferences': [], 'relatedIdentifiers': [{'relationType': 'HasVersion', 'relatedIdentifier': '10.5281/zenodo.2599867', 'relatedIdentifierType': 'DOI'}, {'relationType': 'HasVersion', 'relatedIdentifier': '10.5281/zenodo.3884745', 'relatedIdentifierType': 'DOI'}], 'schemaVersion': 'http://datacite.org/schema/kernel-4', 'providerId': 'cern', 'clientId': 'cern.zenodo', 'agency': 'datacite', 'state': 'findable'}\n",
      "-------\n"
     ]
    }
   ],
   "source": [
    "for NeueDOI in dois:\n",
    "    full_url = base_url + NeueDOI\n",
    "    print (full_url)\n",
    "    doi_json_dataset = urllib.request.urlopen(full_url).read()\n",
    "    doi_dataset = json.loads(doi_json_dataset)\n",
    "    print (doi_dataset)\n",
    "    print (\"-------\")"
   ]
  },
  {
   "cell_type": "code",
   "execution_count": 27,
   "id": "971559e6",
   "metadata": {},
   "outputs": [
    {
     "data": {
      "text/plain": [
       "{'id': 'https://doi.org/10.5281/zenodo.2599866',\n",
       " 'doi': '10.5281/ZENODO.2599866',\n",
       " 'url': 'https://zenodo.org/record/2599866',\n",
       " 'types': {'ris': 'GEN',\n",
       "  'bibtex': 'misc',\n",
       "  'citeproc': 'article',\n",
       "  'schemaOrg': 'CreativeWork',\n",
       "  'resourceTypeGeneral': 'Other'},\n",
       " 'creators': [{'name': 'Landesinitiative NFDI Der Digitalen Hochschule NRW',\n",
       "   'affiliation': [],\n",
       "   'nameIdentifiers': []},\n",
       "  {'name': 'AG FDM Awareness', 'affiliation': [], 'nameIdentifiers': []}],\n",
       " 'titles': [{'title': 'Nachnutzbare Awarenessmaterialien für Forschungsdatenmanagement (FDM)'}],\n",
       " 'publisher': 'Zenodo',\n",
       " 'container': {},\n",
       " 'subjects': [{'subject': 'RDM'},\n",
       "  {'subject': 'FDM'},\n",
       "  {'subject': 'Researchdatamanagement'},\n",
       "  {'subject': 'Forschungsdatenmanagement'},\n",
       "  {'subject': 'Researchdata'},\n",
       "  {'subject': 'Forschungsdaten'}],\n",
       " 'contributors': [],\n",
       " 'dates': [{'date': '2019-03-26', 'dateType': 'Issued'}],\n",
       " 'publicationYear': 2019,\n",
       " 'language': 'de',\n",
       " 'identifiers': [],\n",
       " 'sizes': [],\n",
       " 'formats': [],\n",
       " 'rightsList': [{'rights': 'Open Access',\n",
       "   'rightsUri': 'info:eu-repo/semantics/openAccess'}],\n",
       " 'descriptions': [{'description': 'In Rechenzentren, Bibliotheken und Einrichtungen für Forschungsförderung ist man sich der Bedeutung von FDM längst bewusst. Doch auch wenn Daten als Grundlage zukunftsfähiger Forschung gelten und Basis von Wissensgenerierung sind, bedarf es in der Breite der Forschenden noch viel Sensibilisierung und Aufklärung. Zur Unterstützung der Mitarbeiterinnen und Mitarbeiter der Infrastruktureinrichtungen bei dieser Aufgabe, hat die Landesinitiative fdm.nrw gemeinsam mit einer hochschulübergreifenden Arbeitsgruppe Awareness-Materialien für FDM entwickelt, die zur freien Nachnutzung und Anpassung unter der Lizenz CC0 (Ausnahmen wurden gekennzeichnet) zur Verfügung stehen. Diese wurden im April 2019 veröffentlicht. Die Awareness-Materialien werden stetig erweitert. In Version 2 wurden Flyer zur Informationsplattform forschungsdaten.info und zum Thema Datenschutz ergänzt. Alle Flyer wurden zudem auf Englisch übersetzt. Kontakt: info@fdm.nrw',\n",
       "   'descriptionType': 'Abstract'},\n",
       "  {'description': 'Die Flyer und Poster liegen als PDF sowie als Indesign-Dateien (*indd) sowie als IDML-Dateien vor. Die verwendeten Bilder finden sich im jeweiligen \"Links\"-Ordner.',\n",
       "   'descriptionType': 'Other'}],\n",
       " 'geoLocations': [],\n",
       " 'fundingReferences': [],\n",
       " 'relatedIdentifiers': [{'relationType': 'HasVersion',\n",
       "   'relatedIdentifier': '10.5281/zenodo.2599867',\n",
       "   'relatedIdentifierType': 'DOI'},\n",
       "  {'relationType': 'HasVersion',\n",
       "   'relatedIdentifier': '10.5281/zenodo.3884745',\n",
       "   'relatedIdentifierType': 'DOI'}],\n",
       " 'schemaVersion': 'http://datacite.org/schema/kernel-4',\n",
       " 'providerId': 'cern',\n",
       " 'clientId': 'cern.zenodo',\n",
       " 'agency': 'datacite',\n",
       " 'state': 'findable'}"
      ]
     },
     "execution_count": 27,
     "metadata": {},
     "output_type": "execute_result"
    }
   ],
   "source": [
    "doi_dataset"
   ]
  },
  {
   "cell_type": "code",
   "execution_count": 28,
   "id": "7ff721a0",
   "metadata": {},
   "outputs": [
    {
     "data": {
      "text/plain": [
       "dict_keys(['id', 'doi', 'url', 'types', 'creators', 'titles', 'publisher', 'container', 'subjects', 'contributors', 'dates', 'publicationYear', 'language', 'identifiers', 'sizes', 'formats', 'rightsList', 'descriptions', 'geoLocations', 'fundingReferences', 'relatedIdentifiers', 'schemaVersion', 'providerId', 'clientId', 'agency', 'state'])"
      ]
     },
     "execution_count": 28,
     "metadata": {},
     "output_type": "execute_result"
    }
   ],
   "source": [
    "doi_dataset.keys()"
   ]
  },
  {
   "cell_type": "code",
   "execution_count": 1,
   "id": "1176496e",
   "metadata": {},
   "outputs": [
    {
     "ename": "NameError",
     "evalue": "name 'dois' is not defined",
     "output_type": "error",
     "traceback": [
      "\u001b[0;31m---------------------------------------------------------------------------\u001b[0m",
      "\u001b[0;31mNameError\u001b[0m                                 Traceback (most recent call last)",
      "\u001b[0;32m/tmp/ipykernel_18092/743895157.py\u001b[0m in \u001b[0;36m<module>\u001b[0;34m\u001b[0m\n\u001b[0;32m----> 1\u001b[0;31m \u001b[0;32mfor\u001b[0m \u001b[0mNeueDOI\u001b[0m \u001b[0;32min\u001b[0m \u001b[0mdois\u001b[0m\u001b[0;34m:\u001b[0m\u001b[0;34m\u001b[0m\u001b[0;34m\u001b[0m\u001b[0m\n\u001b[0m\u001b[1;32m      2\u001b[0m     \u001b[0mfull_url\u001b[0m \u001b[0;34m=\u001b[0m \u001b[0mbase_url\u001b[0m \u001b[0;34m+\u001b[0m \u001b[0mNeueDOI\u001b[0m\u001b[0;34m\u001b[0m\u001b[0;34m\u001b[0m\u001b[0m\n\u001b[1;32m      3\u001b[0m     \u001b[0mprint\u001b[0m \u001b[0;34m(\u001b[0m\u001b[0mfull_url\u001b[0m\u001b[0;34m)\u001b[0m\u001b[0;34m\u001b[0m\u001b[0;34m\u001b[0m\u001b[0m\n\u001b[1;32m      4\u001b[0m     \u001b[0mdoi_json_dataset\u001b[0m \u001b[0;34m=\u001b[0m \u001b[0murllib\u001b[0m\u001b[0;34m.\u001b[0m\u001b[0mrequest\u001b[0m\u001b[0;34m.\u001b[0m\u001b[0murlopen\u001b[0m\u001b[0;34m(\u001b[0m\u001b[0mfull_url\u001b[0m\u001b[0;34m)\u001b[0m\u001b[0;34m.\u001b[0m\u001b[0mread\u001b[0m\u001b[0;34m(\u001b[0m\u001b[0;34m)\u001b[0m\u001b[0;34m\u001b[0m\u001b[0;34m\u001b[0m\u001b[0m\n\u001b[1;32m      5\u001b[0m     \u001b[0mdoi_dataset\u001b[0m \u001b[0;34m=\u001b[0m \u001b[0mjson\u001b[0m\u001b[0;34m.\u001b[0m\u001b[0mloads\u001b[0m\u001b[0;34m(\u001b[0m\u001b[0mdoi_json_dataset\u001b[0m\u001b[0;34m)\u001b[0m\u001b[0;34m\u001b[0m\u001b[0;34m\u001b[0m\u001b[0m\n",
      "\u001b[0;31mNameError\u001b[0m: name 'dois' is not defined"
     ]
    }
   ],
   "source": [
    "for NeueDOI in dois:\n",
    "    full_url = base_url + NeueDOI\n",
    "    print (full_url)\n",
    "    doi_json_dataset = urllib.request.urlopen(full_url).read()\n",
    "    doi_dataset = json.loads(doi_json_dataset)\n",
    "    print(doi_dataset[\"titles\"][0][\"title\"])\n",
    "    print(\"- \" + doi)\n",
    "    print(\"- \" + doi_dataset[\"types\"][\"resourceTypeGeneral\"])\n",
    "    print(\"- \" + doi_dataset[\"publisher\"])\n",
    "    print(\"----------------------\")"
   ]
  },
  {
   "cell_type": "code",
   "execution_count": 2,
   "id": "2ceaa3d3",
   "metadata": {},
   "outputs": [],
   "source": [
    "dois = [\"10.6084/m9.figshare.155613\",\n",
    "        \"10.6084/m9.figshare.153821.v1\",\n",
    "        \"10.7490/f1000research.1115338.1\",\n",
    "        \"10.5281/zenodo.2599866\"]"
   ]
  },
  {
   "cell_type": "code",
   "execution_count": 3,
   "id": "dbf80220",
   "metadata": {},
   "outputs": [
    {
     "ename": "NameError",
     "evalue": "name 'base_url' is not defined",
     "output_type": "error",
     "traceback": [
      "\u001b[0;31m---------------------------------------------------------------------------\u001b[0m",
      "\u001b[0;31mNameError\u001b[0m                                 Traceback (most recent call last)",
      "\u001b[0;32m/tmp/ipykernel_18092/743895157.py\u001b[0m in \u001b[0;36m<module>\u001b[0;34m\u001b[0m\n\u001b[1;32m      1\u001b[0m \u001b[0;32mfor\u001b[0m \u001b[0mNeueDOI\u001b[0m \u001b[0;32min\u001b[0m \u001b[0mdois\u001b[0m\u001b[0;34m:\u001b[0m\u001b[0;34m\u001b[0m\u001b[0;34m\u001b[0m\u001b[0m\n\u001b[0;32m----> 2\u001b[0;31m     \u001b[0mfull_url\u001b[0m \u001b[0;34m=\u001b[0m \u001b[0mbase_url\u001b[0m \u001b[0;34m+\u001b[0m \u001b[0mNeueDOI\u001b[0m\u001b[0;34m\u001b[0m\u001b[0;34m\u001b[0m\u001b[0m\n\u001b[0m\u001b[1;32m      3\u001b[0m     \u001b[0mprint\u001b[0m \u001b[0;34m(\u001b[0m\u001b[0mfull_url\u001b[0m\u001b[0;34m)\u001b[0m\u001b[0;34m\u001b[0m\u001b[0;34m\u001b[0m\u001b[0m\n\u001b[1;32m      4\u001b[0m     \u001b[0mdoi_json_dataset\u001b[0m \u001b[0;34m=\u001b[0m \u001b[0murllib\u001b[0m\u001b[0;34m.\u001b[0m\u001b[0mrequest\u001b[0m\u001b[0;34m.\u001b[0m\u001b[0murlopen\u001b[0m\u001b[0;34m(\u001b[0m\u001b[0mfull_url\u001b[0m\u001b[0;34m)\u001b[0m\u001b[0;34m.\u001b[0m\u001b[0mread\u001b[0m\u001b[0;34m(\u001b[0m\u001b[0;34m)\u001b[0m\u001b[0;34m\u001b[0m\u001b[0;34m\u001b[0m\u001b[0m\n\u001b[1;32m      5\u001b[0m     \u001b[0mdoi_dataset\u001b[0m \u001b[0;34m=\u001b[0m \u001b[0mjson\u001b[0m\u001b[0;34m.\u001b[0m\u001b[0mloads\u001b[0m\u001b[0;34m(\u001b[0m\u001b[0mdoi_json_dataset\u001b[0m\u001b[0;34m)\u001b[0m\u001b[0;34m\u001b[0m\u001b[0;34m\u001b[0m\u001b[0m\n",
      "\u001b[0;31mNameError\u001b[0m: name 'base_url' is not defined"
     ]
    }
   ],
   "source": [
    "for NeueDOI in dois:\n",
    "    full_url = base_url + NeueDOI\n",
    "    print (full_url)\n",
    "    doi_json_dataset = urllib.request.urlopen(full_url).read()\n",
    "    doi_dataset = json.loads(doi_json_dataset)\n",
    "    print(doi_dataset[\"titles\"][0][\"title\"])\n",
    "    print(\"- \" + doi)\n",
    "    print(\"- \" + doi_dataset[\"types\"][\"resourceTypeGeneral\"])\n",
    "    print(\"- \" + doi_dataset[\"publisher\"])\n",
    "    print(\"----------------------\")"
   ]
  },
  {
   "cell_type": "code",
   "execution_count": 4,
   "id": "8aa9383a",
   "metadata": {},
   "outputs": [],
   "source": [
    "base_url = \"https://api.datacite.org/application/vnd.datacite.datacite+json/\"\n",
    "doi = \"10.5281/zenodo.5563162\"\n",
    "full_url = base_url + doi"
   ]
  },
  {
   "cell_type": "code",
   "execution_count": 5,
   "id": "890145f9",
   "metadata": {},
   "outputs": [],
   "source": [
    "dois = [\"10.6084/m9.figshare.155613\",\n",
    "        \"10.6084/m9.figshare.153821.v1\",\n",
    "        \"10.7490/f1000research.1115338.1\",\n",
    "        \"10.5281/zenodo.2599866\"]"
   ]
  },
  {
   "cell_type": "code",
   "execution_count": 6,
   "id": "99f89272",
   "metadata": {},
   "outputs": [
    {
     "name": "stdout",
     "output_type": "stream",
     "text": [
      "https://api.datacite.org/application/vnd.datacite.datacite+json/10.6084/m9.figshare.155613\n"
     ]
    },
    {
     "ename": "NameError",
     "evalue": "name 'urllib' is not defined",
     "output_type": "error",
     "traceback": [
      "\u001b[0;31m---------------------------------------------------------------------------\u001b[0m",
      "\u001b[0;31mNameError\u001b[0m                                 Traceback (most recent call last)",
      "\u001b[0;32m/tmp/ipykernel_18092/743895157.py\u001b[0m in \u001b[0;36m<module>\u001b[0;34m\u001b[0m\n\u001b[1;32m      2\u001b[0m     \u001b[0mfull_url\u001b[0m \u001b[0;34m=\u001b[0m \u001b[0mbase_url\u001b[0m \u001b[0;34m+\u001b[0m \u001b[0mNeueDOI\u001b[0m\u001b[0;34m\u001b[0m\u001b[0;34m\u001b[0m\u001b[0m\n\u001b[1;32m      3\u001b[0m     \u001b[0mprint\u001b[0m \u001b[0;34m(\u001b[0m\u001b[0mfull_url\u001b[0m\u001b[0;34m)\u001b[0m\u001b[0;34m\u001b[0m\u001b[0;34m\u001b[0m\u001b[0m\n\u001b[0;32m----> 4\u001b[0;31m     \u001b[0mdoi_json_dataset\u001b[0m \u001b[0;34m=\u001b[0m \u001b[0murllib\u001b[0m\u001b[0;34m.\u001b[0m\u001b[0mrequest\u001b[0m\u001b[0;34m.\u001b[0m\u001b[0murlopen\u001b[0m\u001b[0;34m(\u001b[0m\u001b[0mfull_url\u001b[0m\u001b[0;34m)\u001b[0m\u001b[0;34m.\u001b[0m\u001b[0mread\u001b[0m\u001b[0;34m(\u001b[0m\u001b[0;34m)\u001b[0m\u001b[0;34m\u001b[0m\u001b[0;34m\u001b[0m\u001b[0m\n\u001b[0m\u001b[1;32m      5\u001b[0m     \u001b[0mdoi_dataset\u001b[0m \u001b[0;34m=\u001b[0m \u001b[0mjson\u001b[0m\u001b[0;34m.\u001b[0m\u001b[0mloads\u001b[0m\u001b[0;34m(\u001b[0m\u001b[0mdoi_json_dataset\u001b[0m\u001b[0;34m)\u001b[0m\u001b[0;34m\u001b[0m\u001b[0;34m\u001b[0m\u001b[0m\n\u001b[1;32m      6\u001b[0m     \u001b[0mprint\u001b[0m\u001b[0;34m(\u001b[0m\u001b[0mdoi_dataset\u001b[0m\u001b[0;34m[\u001b[0m\u001b[0;34m\"titles\"\u001b[0m\u001b[0;34m]\u001b[0m\u001b[0;34m[\u001b[0m\u001b[0;36m0\u001b[0m\u001b[0;34m]\u001b[0m\u001b[0;34m[\u001b[0m\u001b[0;34m\"title\"\u001b[0m\u001b[0;34m]\u001b[0m\u001b[0;34m)\u001b[0m\u001b[0;34m\u001b[0m\u001b[0;34m\u001b[0m\u001b[0m\n",
      "\u001b[0;31mNameError\u001b[0m: name 'urllib' is not defined"
     ]
    }
   ],
   "source": [
    "for NeueDOI in dois:\n",
    "    full_url = base_url + NeueDOI\n",
    "    print (full_url)\n",
    "    doi_json_dataset = urllib.request.urlopen(full_url).read()\n",
    "    doi_dataset = json.loads(doi_json_dataset)\n",
    "    print(doi_dataset[\"titles\"][0][\"title\"])\n",
    "    print(\"- \" + doi)\n",
    "    print(\"- \" + doi_dataset[\"types\"][\"resourceTypeGeneral\"])\n",
    "    print(\"- \" + doi_dataset[\"publisher\"])\n",
    "    print(\"----------------------\")"
   ]
  },
  {
   "cell_type": "code",
   "execution_count": 7,
   "id": "85781254",
   "metadata": {},
   "outputs": [],
   "source": [
    "import urllib.request\n",
    "import json\n",
    "\n",
    "base_url = \"https://api.datacite.org/application/vnd.datacite.datacite+json/\"\n",
    "doi = \"10.5281/zenodo.5563162\"\n",
    "full_url = base_url + doi"
   ]
  },
  {
   "cell_type": "code",
   "execution_count": 8,
   "id": "24ca7439",
   "metadata": {},
   "outputs": [],
   "source": [
    "doi_json_dataset = urllib.request.urlopen(full_url).read()"
   ]
  },
  {
   "cell_type": "code",
   "execution_count": 9,
   "id": "9d51a819",
   "metadata": {},
   "outputs": [],
   "source": [
    "doi_dataset = json.loads(doi_json_dataset)"
   ]
  },
  {
   "cell_type": "code",
   "execution_count": 10,
   "id": "2e87893b",
   "metadata": {},
   "outputs": [],
   "source": [
    "dois = [\"10.6084/m9.figshare.155613\",\n",
    "        \"10.6084/m9.figshare.153821.v1\",\n",
    "        \"10.7490/f1000research.1115338.1\",\n",
    "        \"10.5281/zenodo.2599866\"]"
   ]
  },
  {
   "cell_type": "code",
   "execution_count": 11,
   "id": "cc8ef996",
   "metadata": {},
   "outputs": [
    {
     "name": "stdout",
     "output_type": "stream",
     "text": [
      "https://api.datacite.org/application/vnd.datacite.datacite+json/10.6084/m9.figshare.155613\n",
      "git repository for paper on git and reproducible science\n",
      "- 10.5281/zenodo.5563162\n",
      "- Dataset\n",
      "- figshare\n",
      "----------------------\n",
      "https://api.datacite.org/application/vnd.datacite.datacite+json/10.6084/m9.figshare.153821.v1\n",
      "git can facilitate greater reproducibility and increased transparency in science\n",
      "- 10.5281/zenodo.5563162\n",
      "- Dataset\n",
      "- figshare\n",
      "----------------------\n",
      "https://api.datacite.org/application/vnd.datacite.datacite+json/10.7490/f1000research.1115338.1\n",
      "The role of the German National Library for Life Sciences ZB MED in the approach to a FAIR Research Data Infrastructure in Agricultural Science embedded in the Life Sciences\n",
      "- 10.5281/zenodo.5563162\n",
      "- Other\n",
      "- F1000 Research Limited\n",
      "----------------------\n",
      "https://api.datacite.org/application/vnd.datacite.datacite+json/10.5281/zenodo.2599866\n",
      "Nachnutzbare Awarenessmaterialien für Forschungsdatenmanagement (FDM)\n",
      "- 10.5281/zenodo.5563162\n",
      "- Other\n",
      "- Zenodo\n",
      "----------------------\n"
     ]
    }
   ],
   "source": [
    "for NeueDOI in dois:\n",
    "    full_url = base_url + NeueDOI\n",
    "    print (full_url)\n",
    "    doi_json_dataset = urllib.request.urlopen(full_url).read()\n",
    "    doi_dataset = json.loads(doi_json_dataset)\n",
    "    print(doi_dataset[\"titles\"][0][\"title\"])\n",
    "    print(\"- \" + doi)\n",
    "    print(\"- \" + doi_dataset[\"types\"][\"resourceTypeGeneral\"])\n",
    "    print(\"- \" + doi_dataset[\"publisher\"])\n",
    "    print(\"----------------------\")"
   ]
  },
  {
   "cell_type": "code",
   "execution_count": null,
   "id": "f52c312a",
   "metadata": {},
   "outputs": [],
   "source": []
  }
 ],
 "metadata": {
  "kernelspec": {
   "display_name": "Python 3 (ipykernel)",
   "language": "python",
   "name": "python3"
  },
  "language_info": {
   "codemirror_mode": {
    "name": "ipython",
    "version": 3
   },
   "file_extension": ".py",
   "mimetype": "text/x-python",
   "name": "python",
   "nbconvert_exporter": "python",
   "pygments_lexer": "ipython3",
   "version": "3.9.7"
  }
 },
 "nbformat": 4,
 "nbformat_minor": 5
}
